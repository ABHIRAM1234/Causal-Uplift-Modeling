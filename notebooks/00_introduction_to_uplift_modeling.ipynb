{
 "cells": [
  {
   "cell_type": "markdown",
   "id": "5d595eac",
   "metadata": {
    "papermill": {
     "duration": 0.006119,
     "end_time": "2022-08-12T11:49:38.154509",
     "exception": false,
     "start_time": "2022-08-12T11:49:38.148390",
     "status": "completed"
    },
    "tags": []
   },
   "source": [
    "---"
   ]
  },
  {
   "cell_type": "markdown",
   "id": "43104e4b",
   "metadata": {
    "papermill": {
     "duration": 0.004869,
     "end_time": "2022-08-12T11:49:38.164915",
     "exception": false,
     "start_time": "2022-08-12T11:49:38.160046",
     "status": "completed"
    },
    "tags": []
   },
   "source": [
    "\n",
    "<a href=\"statworx.com\"><img src=\"https://www.statworx.com/wp-content/uploads/2021/11/statworx-Logo-Blue.svg\" style=\"height:40px; float:right\"></a>"
   ]
  },
  {
   "cell_type": "markdown",
   "id": "cc07924e",
   "metadata": {
    "papermill": {
     "duration": 0.004748,
     "end_time": "2022-08-12T11:49:38.174829",
     "exception": false,
     "start_time": "2022-08-12T11:49:38.170081",
     "status": "completed"
    },
    "tags": []
   },
   "source": [
    "# Machine Learning for Marketing\n",
    "## Uplift Modeling\n",
    "\n",
    "15.07.2022\n",
    "\n",
    "---"
   ]
  },
  {
   "cell_type": "markdown",
   "id": "58137423",
   "metadata": {
    "papermill": {
     "duration": 0.004755,
     "end_time": "2022-08-12T11:49:38.184633",
     "exception": false,
     "start_time": "2022-08-12T11:49:38.179878",
     "status": "completed"
    },
    "tags": []
   },
   "source": [
    "### Introduction to Uplift Modeling\n"
   ]
  },
  {
   "cell_type": "markdown",
   "id": "1e7f7885",
   "metadata": {
    "papermill": {
     "duration": 0.004829,
     "end_time": "2022-08-12T11:49:38.194671",
     "exception": false,
     "start_time": "2022-08-12T11:49:38.189842",
     "status": "completed"
    },
    "tags": []
   },
   "source": [
    "### Install Required Packages"
   ]
  },
  {
   "cell_type": "code",
   "execution_count": 1,
   "id": "7e7fea57",
   "metadata": {
    "_kg_hide-output": true,
    "execution": {
     "iopub.execute_input": "2022-08-12T11:49:38.206973Z",
     "iopub.status.busy": "2022-08-12T11:49:38.206518Z",
     "iopub.status.idle": "2022-08-12T11:50:33.932430Z",
     "shell.execute_reply": "2022-08-12T11:50:33.931142Z"
    },
    "papermill": {
     "duration": 55.735606,
     "end_time": "2022-08-12T11:50:33.935391",
     "exception": false,
     "start_time": "2022-08-12T11:49:38.199785",
     "status": "completed"
    },
    "tags": []
   },
   "outputs": [],
   "source": [
    "%%capture\n",
    "!pip install causalml"
   ]
  },
  {
   "cell_type": "code",
   "execution_count": 2,
   "id": "d21baef3",
   "metadata": {
    "execution": {
     "iopub.execute_input": "2022-08-12T11:50:33.947639Z",
     "iopub.status.busy": "2022-08-12T11:50:33.947215Z",
     "iopub.status.idle": "2022-08-12T11:50:41.165820Z",
     "shell.execute_reply": "2022-08-12T11:50:41.164441Z"
    },
    "papermill": {
     "duration": 7.228181,
     "end_time": "2022-08-12T11:50:41.168706",
     "exception": false,
     "start_time": "2022-08-12T11:50:33.940525",
     "status": "completed"
    },
    "tags": []
   },
   "outputs": [
    {
     "data": {
      "text/html": [
       "<style type='text/css'>\n",
       ".datatable table.frame { margin-bottom: 0; }\n",
       ".datatable table.frame thead { border-bottom: none; }\n",
       ".datatable table.frame tr.coltypes td {  color: #FFFFFF;  line-height: 6px;  padding: 0 0.5em;}\n",
       ".datatable .bool    { background: #DDDD99; }\n",
       ".datatable .object  { background: #565656; }\n",
       ".datatable .int     { background: #5D9E5D; }\n",
       ".datatable .float   { background: #4040CC; }\n",
       ".datatable .str     { background: #CC4040; }\n",
       ".datatable .time    { background: #40CC40; }\n",
       ".datatable .row_index {  background: var(--jp-border-color3);  border-right: 1px solid var(--jp-border-color0);  color: var(--jp-ui-font-color3);  font-size: 9px;}\n",
       ".datatable .frame tbody td { text-align: left; }\n",
       ".datatable .frame tr.coltypes .row_index {  background: var(--jp-border-color0);}\n",
       ".datatable th:nth-child(2) { padding-left: 12px; }\n",
       ".datatable .hellipsis {  color: var(--jp-cell-editor-border-color);}\n",
       ".datatable .vellipsis {  background: var(--jp-layout-color0);  color: var(--jp-cell-editor-border-color);}\n",
       ".datatable .na {  color: var(--jp-cell-editor-border-color);  font-size: 80%;}\n",
       ".datatable .sp {  opacity: 0.25;}\n",
       ".datatable .footer { font-size: 9px; }\n",
       ".datatable .frame_dimensions {  background: var(--jp-border-color3);  border-top: 1px solid var(--jp-border-color0);  color: var(--jp-ui-font-color3);  display: inline-block;  opacity: 0.6;  padding: 1px 10px 1px 5px;}\n",
       "</style>\n"
      ],
      "text/plain": [
       "<IPython.core.display.HTML object>"
      ]
     },
     "metadata": {},
     "output_type": "display_data"
    }
   ],
   "source": [
    "import numpy as np\n",
    "import pandas as pd\n",
    "import matplotlib.pyplot as plt\n",
    "\n",
    "from sklearn.model_selection import train_test_split\n",
    "\n",
    "import causalml\n",
    "from causalml.inference.tree import UpliftRandomForestClassifier, UpliftTreeClassifier\n",
    "from causalml.metrics import plot_gain"
   ]
  },
  {
   "cell_type": "code",
   "execution_count": 3,
   "id": "df4e9eb0",
   "metadata": {
    "execution": {
     "iopub.execute_input": "2022-08-12T11:50:41.182133Z",
     "iopub.status.busy": "2022-08-12T11:50:41.180908Z",
     "iopub.status.idle": "2022-08-12T11:51:41.198707Z",
     "shell.execute_reply": "2022-08-12T11:51:41.196857Z"
    },
    "papermill": {
     "duration": 60.03664,
     "end_time": "2022-08-12T11:51:41.210987",
     "exception": false,
     "start_time": "2022-08-12T11:50:41.174347",
     "status": "completed"
    },
    "tags": []
   },
   "outputs": [
    {
     "data": {
      "text/html": [
       "<div>\n",
       "<style scoped>\n",
       "    .dataframe tbody tr th:only-of-type {\n",
       "        vertical-align: middle;\n",
       "    }\n",
       "\n",
       "    .dataframe tbody tr th {\n",
       "        vertical-align: top;\n",
       "    }\n",
       "\n",
       "    .dataframe thead th {\n",
       "        text-align: right;\n",
       "    }\n",
       "</style>\n",
       "<table border=\"1\" class=\"dataframe\">\n",
       "  <thead>\n",
       "    <tr style=\"text-align: right;\">\n",
       "      <th></th>\n",
       "      <th>f0</th>\n",
       "      <th>f1</th>\n",
       "      <th>f2</th>\n",
       "      <th>f3</th>\n",
       "      <th>f4</th>\n",
       "      <th>f5</th>\n",
       "      <th>f6</th>\n",
       "      <th>f7</th>\n",
       "      <th>f8</th>\n",
       "      <th>f9</th>\n",
       "      <th>f10</th>\n",
       "      <th>f11</th>\n",
       "      <th>treatment</th>\n",
       "      <th>conversion</th>\n",
       "      <th>visit</th>\n",
       "      <th>exposure</th>\n",
       "    </tr>\n",
       "  </thead>\n",
       "  <tbody>\n",
       "    <tr>\n",
       "      <th>0</th>\n",
       "      <td>12.616365</td>\n",
       "      <td>10.059654</td>\n",
       "      <td>8.976429</td>\n",
       "      <td>4.679882</td>\n",
       "      <td>10.280525</td>\n",
       "      <td>4.115453</td>\n",
       "      <td>0.294443</td>\n",
       "      <td>4.833815</td>\n",
       "      <td>3.955396</td>\n",
       "      <td>13.190056</td>\n",
       "      <td>5.300375</td>\n",
       "      <td>-0.168679</td>\n",
       "      <td>1</td>\n",
       "      <td>0</td>\n",
       "      <td>0</td>\n",
       "      <td>0</td>\n",
       "    </tr>\n",
       "    <tr>\n",
       "      <th>1</th>\n",
       "      <td>12.616365</td>\n",
       "      <td>10.059654</td>\n",
       "      <td>9.002689</td>\n",
       "      <td>4.679882</td>\n",
       "      <td>10.280525</td>\n",
       "      <td>4.115453</td>\n",
       "      <td>0.294443</td>\n",
       "      <td>4.833815</td>\n",
       "      <td>3.955396</td>\n",
       "      <td>13.190056</td>\n",
       "      <td>5.300375</td>\n",
       "      <td>-0.168679</td>\n",
       "      <td>1</td>\n",
       "      <td>0</td>\n",
       "      <td>0</td>\n",
       "      <td>0</td>\n",
       "    </tr>\n",
       "    <tr>\n",
       "      <th>2</th>\n",
       "      <td>12.616365</td>\n",
       "      <td>10.059654</td>\n",
       "      <td>8.964775</td>\n",
       "      <td>4.679882</td>\n",
       "      <td>10.280525</td>\n",
       "      <td>4.115453</td>\n",
       "      <td>0.294443</td>\n",
       "      <td>4.833815</td>\n",
       "      <td>3.955396</td>\n",
       "      <td>13.190056</td>\n",
       "      <td>5.300375</td>\n",
       "      <td>-0.168679</td>\n",
       "      <td>1</td>\n",
       "      <td>0</td>\n",
       "      <td>0</td>\n",
       "      <td>0</td>\n",
       "    </tr>\n",
       "    <tr>\n",
       "      <th>3</th>\n",
       "      <td>12.616365</td>\n",
       "      <td>10.059654</td>\n",
       "      <td>9.002801</td>\n",
       "      <td>4.679882</td>\n",
       "      <td>10.280525</td>\n",
       "      <td>4.115453</td>\n",
       "      <td>0.294443</td>\n",
       "      <td>4.833815</td>\n",
       "      <td>3.955396</td>\n",
       "      <td>13.190056</td>\n",
       "      <td>5.300375</td>\n",
       "      <td>-0.168679</td>\n",
       "      <td>1</td>\n",
       "      <td>0</td>\n",
       "      <td>0</td>\n",
       "      <td>0</td>\n",
       "    </tr>\n",
       "    <tr>\n",
       "      <th>4</th>\n",
       "      <td>12.616365</td>\n",
       "      <td>10.059654</td>\n",
       "      <td>9.037999</td>\n",
       "      <td>4.679882</td>\n",
       "      <td>10.280525</td>\n",
       "      <td>4.115453</td>\n",
       "      <td>0.294443</td>\n",
       "      <td>4.833815</td>\n",
       "      <td>3.955396</td>\n",
       "      <td>13.190056</td>\n",
       "      <td>5.300375</td>\n",
       "      <td>-0.168679</td>\n",
       "      <td>1</td>\n",
       "      <td>0</td>\n",
       "      <td>0</td>\n",
       "      <td>0</td>\n",
       "    </tr>\n",
       "  </tbody>\n",
       "</table>\n",
       "</div>"
      ],
      "text/plain": [
       "          f0         f1        f2        f3         f4        f5        f6  \\\n",
       "0  12.616365  10.059654  8.976429  4.679882  10.280525  4.115453  0.294443   \n",
       "1  12.616365  10.059654  9.002689  4.679882  10.280525  4.115453  0.294443   \n",
       "2  12.616365  10.059654  8.964775  4.679882  10.280525  4.115453  0.294443   \n",
       "3  12.616365  10.059654  9.002801  4.679882  10.280525  4.115453  0.294443   \n",
       "4  12.616365  10.059654  9.037999  4.679882  10.280525  4.115453  0.294443   \n",
       "\n",
       "         f7        f8         f9       f10       f11  treatment  conversion  \\\n",
       "0  4.833815  3.955396  13.190056  5.300375 -0.168679          1           0   \n",
       "1  4.833815  3.955396  13.190056  5.300375 -0.168679          1           0   \n",
       "2  4.833815  3.955396  13.190056  5.300375 -0.168679          1           0   \n",
       "3  4.833815  3.955396  13.190056  5.300375 -0.168679          1           0   \n",
       "4  4.833815  3.955396  13.190056  5.300375 -0.168679          1           0   \n",
       "\n",
       "   visit  exposure  \n",
       "0      0         0  \n",
       "1      0         0  \n",
       "2      0         0  \n",
       "3      0         0  \n",
       "4      0         0  "
      ]
     },
     "execution_count": 3,
     "metadata": {},
     "output_type": "execute_result"
    }
   ],
   "source": [
    "df = pd.read_csv(\"../input/uplift-modeling/criteo-uplift-v2.1.csv\")\n",
    "df.head()"
   ]
  },
  {
   "cell_type": "markdown",
   "id": "4ea01216",
   "metadata": {
    "papermill": {
     "duration": 0.005297,
     "end_time": "2022-08-12T11:51:41.221952",
     "exception": false,
     "start_time": "2022-08-12T11:51:41.216655",
     "status": "completed"
    },
    "tags": []
   },
   "source": [
    "### Data Exploration"
   ]
  },
  {
   "cell_type": "code",
   "execution_count": 4,
   "id": "5778ec6d",
   "metadata": {
    "execution": {
     "iopub.execute_input": "2022-08-12T11:51:41.236407Z",
     "iopub.status.busy": "2022-08-12T11:51:41.234933Z",
     "iopub.status.idle": "2022-08-12T11:51:41.482131Z",
     "shell.execute_reply": "2022-08-12T11:51:41.480851Z"
    },
    "papermill": {
     "duration": 0.257378,
     "end_time": "2022-08-12T11:51:41.484731",
     "exception": false,
     "start_time": "2022-08-12T11:51:41.227353",
     "status": "completed"
    },
    "tags": []
   },
   "outputs": [
    {
     "name": "stdout",
     "output_type": "stream",
     "text": [
      "(13979592, 16)\n",
      "1    11882655\n",
      "0     2096937\n",
      "Name: treatment, dtype: int64\n",
      "1    0.85\n",
      "0    0.15\n",
      "Name: treatment, dtype: float64\n"
     ]
    }
   ],
   "source": [
    "print(df.shape)\n",
    "print(df.treatment.value_counts())\n",
    "print(df.treatment.value_counts(normalize = True))"
   ]
  },
  {
   "cell_type": "code",
   "execution_count": 5,
   "id": "84f40a39",
   "metadata": {
    "execution": {
     "iopub.execute_input": "2022-08-12T11:51:41.498035Z",
     "iopub.status.busy": "2022-08-12T11:51:41.497656Z",
     "iopub.status.idle": "2022-08-12T11:51:43.215321Z",
     "shell.execute_reply": "2022-08-12T11:51:43.214267Z"
    },
    "papermill": {
     "duration": 1.727038,
     "end_time": "2022-08-12T11:51:43.217469",
     "exception": false,
     "start_time": "2022-08-12T11:51:41.490431",
     "status": "completed"
    },
    "tags": []
   },
   "outputs": [
    {
     "data": {
      "text/html": [
       "<div>\n",
       "<style scoped>\n",
       "    .dataframe tbody tr th:only-of-type {\n",
       "        vertical-align: middle;\n",
       "    }\n",
       "\n",
       "    .dataframe tbody tr th {\n",
       "        vertical-align: top;\n",
       "    }\n",
       "\n",
       "    .dataframe thead tr th {\n",
       "        text-align: left;\n",
       "    }\n",
       "\n",
       "    .dataframe thead tr:last-of-type th {\n",
       "        text-align: right;\n",
       "    }\n",
       "</style>\n",
       "<table border=\"1\" class=\"dataframe\">\n",
       "  <thead>\n",
       "    <tr>\n",
       "      <th></th>\n",
       "      <th>mean</th>\n",
       "      <th>size</th>\n",
       "    </tr>\n",
       "    <tr>\n",
       "      <th></th>\n",
       "      <th>conversion</th>\n",
       "      <th>conversion</th>\n",
       "    </tr>\n",
       "    <tr>\n",
       "      <th>treatment</th>\n",
       "      <th></th>\n",
       "      <th></th>\n",
       "    </tr>\n",
       "  </thead>\n",
       "  <tbody>\n",
       "    <tr>\n",
       "      <th>0</th>\n",
       "      <td>0.001938</td>\n",
       "      <td>2096937</td>\n",
       "    </tr>\n",
       "    <tr>\n",
       "      <th>1</th>\n",
       "      <td>0.003089</td>\n",
       "      <td>11882655</td>\n",
       "    </tr>\n",
       "    <tr>\n",
       "      <th>All</th>\n",
       "      <td>0.002917</td>\n",
       "      <td>13979592</td>\n",
       "    </tr>\n",
       "  </tbody>\n",
       "</table>\n",
       "</div>"
      ],
      "text/plain": [
       "                mean       size\n",
       "          conversion conversion\n",
       "treatment                      \n",
       "0           0.001938    2096937\n",
       "1           0.003089   11882655\n",
       "All         0.002917   13979592"
      ]
     },
     "execution_count": 5,
     "metadata": {},
     "output_type": "execute_result"
    }
   ],
   "source": [
    "df.pivot_table(\n",
    "    values=\"conversion\",\n",
    "    index=\"treatment\",\n",
    "    aggfunc=[np.mean, np.size],\n",
    "    margins=True\n",
    ")"
   ]
  },
  {
   "cell_type": "code",
   "execution_count": 6,
   "id": "b91c0558",
   "metadata": {
    "execution": {
     "iopub.execute_input": "2022-08-12T11:51:43.231341Z",
     "iopub.status.busy": "2022-08-12T11:51:43.230413Z",
     "iopub.status.idle": "2022-08-12T11:51:44.572847Z",
     "shell.execute_reply": "2022-08-12T11:51:44.572064Z"
    },
    "papermill": {
     "duration": 1.353317,
     "end_time": "2022-08-12T11:51:44.576812",
     "exception": false,
     "start_time": "2022-08-12T11:51:43.223495",
     "status": "completed"
    },
    "tags": []
   },
   "outputs": [
    {
     "data": {
      "image/png": "[encoded data removed]",
      "text/plain": [
       "<Figure size 432x288 with 1 Axes>"
      ]
     },
     "metadata": {},
     "output_type": "display_data"
    },
    {
     "data": {
      "image/png": "[encoded data removed]",
      "text/plain": [
       "<Figure size 432x288 with 1 Axes>"
      ]
     },
     "metadata": {},
     "output_type": "display_data"
    }
   ],
   "source": [
    "ate = df.groupby(\"treatment\").conversion.agg(avg_conv=(\"mean\"), sum_conv=(\"sum\"))\n",
    "plt.bar(x=ate.index, height=ate.avg_conv, tick_label=ate.index)\n",
    "plt.title(\"ATE\")\n",
    "plt.show()\n",
    "\n",
    "click = df.groupby(\"treatment\").visit.agg(avg_click=(\"mean\"))\n",
    "plt.bar(x=click.index, height=click.avg_click, tick_label=click.index)\n",
    "plt.title(\"Clickthrough\")\n",
    "plt.show()"
   ]
  },
  {
   "cell_type": "markdown",
   "id": "912120f7",
   "metadata": {
    "papermill": {
     "duration": 0.006045,
     "end_time": "2022-08-12T11:51:44.589365",
     "exception": false,
     "start_time": "2022-08-12T11:51:44.583320",
     "status": "completed"
    },
    "tags": []
   },
   "source": [
    "### Modeling"
   ]
  },
  {
   "cell_type": "code",
   "execution_count": 7,
   "id": "f74e7439",
   "metadata": {
    "execution": {
     "iopub.execute_input": "2022-08-12T11:51:44.603689Z",
     "iopub.status.busy": "2022-08-12T11:51:44.603023Z",
     "iopub.status.idle": "2022-08-12T11:51:56.559201Z",
     "shell.execute_reply": "2022-08-12T11:51:56.557773Z"
    },
    "papermill": {
     "duration": 11.966786,
     "end_time": "2022-08-12T11:51:56.562276",
     "exception": false,
     "start_time": "2022-08-12T11:51:44.595490",
     "status": "completed"
    },
    "tags": []
   },
   "outputs": [],
   "source": [
    "model_df = df.copy()\n",
    "model_df[\"is_treated\"] = model_df.treatment\n",
    "model_df.treatment = np.where(model_df.treatment==1, \"treatment\", \"control\")\n",
    "model_df.drop(columns=[\"visit\", \"exposure\"], inplace=True)\n",
    "\n",
    "df_train, df_test = train_test_split(model_df, test_size=0.2, random_state=42)"
   ]
  },
  {
   "cell_type": "code",
   "execution_count": 8,
   "id": "3d8f11d4",
   "metadata": {
    "execution": {
     "iopub.execute_input": "2022-08-12T11:51:56.577196Z",
     "iopub.status.busy": "2022-08-12T11:51:56.576793Z",
     "iopub.status.idle": "2022-08-12T11:55:18.511055Z",
     "shell.execute_reply": "2022-08-12T11:55:18.509862Z"
    },
    "papermill": {
     "duration": 201.945512,
     "end_time": "2022-08-12T11:55:18.514546",
     "exception": false,
     "start_time": "2022-08-12T11:51:56.569034",
     "status": "completed"
    },
    "tags": []
   },
   "outputs": [],
   "source": [
    "uplift_model = UpliftTreeClassifier(control_name='control')\n",
    "uplift_model.fit(df_train.iloc[:, :12].values,\n",
    "         treatment=df_train['treatment'].values,\n",
    "         y=df_train['conversion'].values)\n",
    "p = uplift_model.predict(df_test.iloc[:, :12].values)"
   ]
  },
  {
   "cell_type": "code",
   "execution_count": 9,
   "id": "d15e8224",
   "metadata": {
    "execution": {
     "iopub.execute_input": "2022-08-12T11:55:18.530545Z",
     "iopub.status.busy": "2022-08-12T11:55:18.529855Z",
     "iopub.status.idle": "2022-08-12T11:55:18.534066Z",
     "shell.execute_reply": "2022-08-12T11:55:18.533127Z"
    },
    "papermill": {
     "duration": 0.014749,
     "end_time": "2022-08-12T11:55:18.536504",
     "exception": false,
     "start_time": "2022-08-12T11:55:18.521755",
     "status": "completed"
    },
    "tags": []
   },
   "outputs": [],
   "source": [
    "# uplift_model = UpliftRandomForestClassifier(control_name='control')\n",
    "#\n",
    "# uplift_model.fit(df_train.iloc[:, :12].values,\n",
    "#                  treatment=df_train['treatment'].values,\n",
    "#                  y=df_train['conversion'].values)"
   ]
  },
  {
   "cell_type": "code",
   "execution_count": 10,
   "id": "93f89897",
   "metadata": {
    "execution": {
     "iopub.execute_input": "2022-08-12T11:55:18.551383Z",
     "iopub.status.busy": "2022-08-12T11:55:18.550804Z",
     "iopub.status.idle": "2022-08-12T11:55:18.554368Z",
     "shell.execute_reply": "2022-08-12T11:55:18.553567Z"
    },
    "papermill": {
     "duration": 0.013619,
     "end_time": "2022-08-12T11:55:18.556714",
     "exception": false,
     "start_time": "2022-08-12T11:55:18.543095",
     "status": "completed"
    },
    "tags": []
   },
   "outputs": [],
   "source": [
    "# df_res = uplift_model.predict(df_test.iloc[:, :12].values, full_output=True)\n",
    "# df_res.head()"
   ]
  },
  {
   "cell_type": "code",
   "execution_count": 11,
   "id": "de285c1e",
   "metadata": {
    "execution": {
     "iopub.execute_input": "2022-08-12T11:55:18.571225Z",
     "iopub.status.busy": "2022-08-12T11:55:18.570639Z",
     "iopub.status.idle": "2022-08-12T11:55:23.868196Z",
     "shell.execute_reply": "2022-08-12T11:55:23.867207Z"
    },
    "papermill": {
     "duration": 5.307453,
     "end_time": "2022-08-12T11:55:23.870454",
     "exception": false,
     "start_time": "2022-08-12T11:55:18.563001",
     "status": "completed"
    },
    "tags": []
   },
   "outputs": [
    {
     "data": {
      "text/html": [
       "<div>\n",
       "<style scoped>\n",
       "    .dataframe tbody tr th:only-of-type {\n",
       "        vertical-align: middle;\n",
       "    }\n",
       "\n",
       "    .dataframe tbody tr th {\n",
       "        vertical-align: top;\n",
       "    }\n",
       "\n",
       "    .dataframe thead th {\n",
       "        text-align: right;\n",
       "    }\n",
       "</style>\n",
       "<table border=\"1\" class=\"dataframe\">\n",
       "  <thead>\n",
       "    <tr style=\"text-align: right;\">\n",
       "      <th></th>\n",
       "      <th>control</th>\n",
       "      <th>treatment</th>\n",
       "      <th>delta_treatment</th>\n",
       "    </tr>\n",
       "  </thead>\n",
       "  <tbody>\n",
       "    <tr>\n",
       "      <th>0</th>\n",
       "      <td>0.000874</td>\n",
       "      <td>0.001741</td>\n",
       "      <td>0.000866</td>\n",
       "    </tr>\n",
       "    <tr>\n",
       "      <th>1</th>\n",
       "      <td>0.000874</td>\n",
       "      <td>0.001741</td>\n",
       "      <td>0.000866</td>\n",
       "    </tr>\n",
       "    <tr>\n",
       "      <th>2</th>\n",
       "      <td>0.003001</td>\n",
       "      <td>0.003679</td>\n",
       "      <td>0.000678</td>\n",
       "    </tr>\n",
       "    <tr>\n",
       "      <th>3</th>\n",
       "      <td>0.003001</td>\n",
       "      <td>0.003679</td>\n",
       "      <td>0.000678</td>\n",
       "    </tr>\n",
       "    <tr>\n",
       "      <th>4</th>\n",
       "      <td>0.003001</td>\n",
       "      <td>0.003679</td>\n",
       "      <td>0.000678</td>\n",
       "    </tr>\n",
       "  </tbody>\n",
       "</table>\n",
       "</div>"
      ],
      "text/plain": [
       "    control  treatment  delta_treatment\n",
       "0  0.000874   0.001741         0.000866\n",
       "1  0.000874   0.001741         0.000866\n",
       "2  0.003001   0.003679         0.000678\n",
       "3  0.003001   0.003679         0.000678\n",
       "4  0.003001   0.003679         0.000678"
      ]
     },
     "execution_count": 11,
     "metadata": {},
     "output_type": "execute_result"
    }
   ],
   "source": [
    "y_pred = uplift_model.predict(df_test.iloc[:, :12].values)\n",
    "result = pd.DataFrame(\n",
    "    y_pred,\n",
    "    columns=uplift_model.classes_\n",
    ")\n",
    "result[\"delta_treatment\"] = result.treatment - result.control\n",
    "result.head()"
   ]
  },
  {
   "cell_type": "code",
   "execution_count": 12,
   "id": "89f77603",
   "metadata": {
    "execution": {
     "iopub.execute_input": "2022-08-12T11:55:23.886376Z",
     "iopub.status.busy": "2022-08-12T11:55:23.885635Z",
     "iopub.status.idle": "2022-08-12T11:56:24.384076Z",
     "shell.execute_reply": "2022-08-12T11:56:24.382888Z"
    },
    "papermill": {
     "duration": 60.517645,
     "end_time": "2022-08-12T11:56:24.394988",
     "exception": false,
     "start_time": "2022-08-12T11:55:23.877343",
     "status": "completed"
    },
    "tags": []
   },
   "outputs": [
    {
     "data": {
      "image/png": "[encoded data removed]",
      "text/plain": [
       "<Figure size 576x576 with 1 Axes>"
      ]
     },
     "metadata": {},
     "output_type": "display_data"
    }
   ],
   "source": [
    "pred_overview = pd.DataFrame({\n",
    "    \"conversion\": df_test.conversion,\n",
    "    \"is_treated\": df_test.is_treated,\n",
    "    \"uplift_model\": result.delta_treatment\n",
    "})\n",
    "\n",
    "plot_gain(pred_overview, outcome_col=\"conversion\", treatment_col=\"is_treated\")\n",
    "plt.show()"
   ]
  },
  {
   "cell_type": "code",
   "execution_count": 13,
   "id": "ecd2f784",
   "metadata": {
    "execution": {
     "iopub.execute_input": "2022-08-12T11:56:24.411843Z",
     "iopub.status.busy": "2022-08-12T11:56:24.410971Z",
     "iopub.status.idle": "2022-08-12T11:56:24.630676Z",
     "shell.execute_reply": "2022-08-12T11:56:24.629636Z"
    },
    "papermill": {
     "duration": 0.232785,
     "end_time": "2022-08-12T11:56:24.635066",
     "exception": false,
     "start_time": "2022-08-12T11:56:24.402281",
     "status": "completed"
    },
    "tags": []
   },
   "outputs": [
    {
     "data": {
      "image/png": "[encoded data removed]",
      "text/plain": [
       "<Figure size 432x288 with 1 Axes>"
      ]
     },
     "metadata": {},
     "output_type": "display_data"
    }
   ],
   "source": [
    "uplift_dist = plt.boxplot(result.delta_treatment, showfliers=False, showmeans=True)"
   ]
  },
  {
   "cell_type": "code",
   "execution_count": null,
   "id": "b94a3737",
   "metadata": {
    "papermill": {
     "duration": 0.017957,
     "end_time": "2022-08-12T11:56:24.671653",
     "exception": false,
     "start_time": "2022-08-12T11:56:24.653696",
     "status": "completed"
    },
    "tags": []
   },
   "outputs": [],
   "source": []
  }
 ],
 "metadata": {
  "kernelspec": {
   "display_name": "Python 3",
   "language": "python",
   "name": "python3"
  },
  "language_info": {
   "codemirror_mode": {
    "name": "ipython",
    "version": 3
   },
   "file_extension": ".py",
   "mimetype": "text/x-python",
   "name": "python",
   "nbconvert_exporter": "python",
   "pygments_lexer": "ipython3",
   "version": "3.7.12"
  },
  "papermill": {
   "default_parameters": {},
   "duration": 419.907745,
   "end_time": "2022-08-12T11:56:27.403016",
   "environment_variables": {},
   "exception": null,
   "input_path": "__notebook__.ipynb",
   "output_path": "__notebook__.ipynb",
   "parameters": {},
   "start_time": "2022-08-12T11:49:27.495271",
   "version": "2.3.4"
  }
 },
 "nbformat": 4,
 "nbformat_minor": 5
}
