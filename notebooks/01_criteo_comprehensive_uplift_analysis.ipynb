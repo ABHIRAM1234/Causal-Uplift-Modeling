{
 "cells": [
  {
   "cell_type": "code",
   "execution_count": 1,
   "metadata": {
    "_cell_guid": "b1076dfc-b9ad-4769-8c92-a6c4dae69d19",
    "_uuid": "8f2839f25d086af736a60e9eeb907d3b93b6e0e5",
    "execution": {
     "iopub.execute_input": "2021-01-11T09:47:09.561733Z",
     "iopub.status.busy": "2021-01-11T09:47:09.560633Z",
     "iopub.status.idle": "2021-01-11T09:47:12.010093Z",
     "shell.execute_reply": "2021-01-11T09:47:12.009183Z"
    },
    "papermill": {
     "duration": 2.501694,
     "end_time": "2021-01-11T09:47:12.010297",
     "exception": false,
     "start_time": "2021-01-11T09:47:09.508603",
     "status": "completed"
    },
    "tags": []
   },
   "outputs": [
    {
     "name": "stdout",
     "output_type": "stream",
     "text": [
      "/kaggle/input/uplift-modeling/criteo-uplift-v2.1.csv\n"
     ]
    }
   ],
   "source": [
    "#import libraries\n",
    "import numpy as np # linear algebra\n",
    "import pandas as pd # data processing, CSV file I/O (e.g. pd.read_csv)\n",
    "import matplotlib as mpl\n",
    "import matplotlib.pyplot as plt\n",
    "import matplotlib.style as style\n",
    "import seaborn as sns\n",
    "%matplotlib inline\n",
    "from statsmodels.stats.proportion import proportions_ztest\n",
    "\n",
    "from sklearn.metrics import auc\n",
    "import xgboost as xgb\n",
    "\n",
    "\n",
    "from sklearn.model_selection import train_test_split\n",
    "\n",
    "import os\n",
    "for dirname, _, filenames in os.walk('/kaggle/input'):\n",
    "    for filename in filenames:\n",
    "        print(os.path.join(dirname, filename))\n"
   ]
  },
  {
   "cell_type": "code",
   "execution_count": 2,
   "metadata": {
    "_cell_guid": "79c7e3d0-c299-4dcb-8224-4455121ee9b0",
    "_uuid": "d629ff2d2480ee46fbb7e2d37f6b5fab8052498a",
    "execution": {
     "iopub.execute_input": "2021-01-11T09:47:12.093190Z",
     "iopub.status.busy": "2021-01-11T09:47:12.092469Z",
     "iopub.status.idle": "2021-01-11T09:48:42.759390Z",
     "shell.execute_reply": "2021-01-11T09:48:42.758378Z"
    },
    "papermill": {
     "duration": 90.711507,
     "end_time": "2021-01-11T09:48:42.759603",
     "exception": false,
     "start_time": "2021-01-11T09:47:12.048096",
     "status": "completed"
    },
    "tags": []
   },
   "outputs": [],
   "source": [
    "df = pd.read_csv('/kaggle/input/uplift-modeling/criteo-uplift-v2.1.csv')"
   ]
  },
  {
   "cell_type": "markdown",
   "metadata": {
    "papermill": {
     "duration": 0.038091,
     "end_time": "2021-01-11T09:48:42.835399",
     "exception": false,
     "start_time": "2021-01-11T09:48:42.797308",
     "status": "completed"
    },
    "tags": []
   },
   "source": [
    "# Introduction\n",
    "\n",
    "<i>This is my first attempt at exploring uplift modelling, any comments, feedback, or suggestions would be greatly appreciated.</i>\n",
    "\n",
    "Uplift modelling is an important area of research which aims to estimate the causal impact of some treatment on an individual's behaviour. The model predicts the difference between a customer’s behaviour when there is a treatment and when there is no treatment. In the digital advertising industry, for example, this treatment could be exposure to different ads and uplift modelling could then be used to direct marketing efforts towards users for whom this intervention is most efficient. This is important because some customers will naturally respond to treatments in different ways:\n",
    "\n",
    "* <b>Persuadables</b> will always respond POSITIVE to the marketing communication. They are going to purchase ONLY if treated.\n",
    "* <b>Do-Not-Disturbs </b> (a.k.a. Sleeping-dogs) have a strong negative response to a marketing communication. They are going to purchase if NOT treated and will NOT purchase IF treated.\n",
    "* <b>Lost Causes </b> will NOT purchase the product NO MATTER they are contacted or not. The marketing budget in this case is also wasted because it has no effect.\n",
    "* <b>Sure Things </b> will purchase ANYWAY no matter they are contacted or not. There is no motivation to spend the budget because it also has no effect.\n",
    "\n",
    "The goal of uplift modelling, therefore, is to identify the “persuadables”, not waste efforts on “sure things” and “lost causes”, and avoid bothering “sleeping dogs”, or those who would react negatively to the treatment, if they exist. Uplift modelling has found application in many domains including marketing, medical treatments and political campaigns."
   ]
  },
  {
   "cell_type": "markdown",
   "metadata": {
    "papermill": {
     "duration": 0.03712,
     "end_time": "2021-01-11T09:48:42.909713",
     "exception": false,
     "start_time": "2021-01-11T09:48:42.872593",
     "status": "completed"
    },
    "tags": []
   },
   "source": [
    "## Dataset\n",
    "\n",
    "Now that we know the goal of uplift modeling, how do we get there? A typical starting point for building an uplift model is a dataset from a randomized, controlled experiment: we need a representative sample of all different kinds of customers in both a treatment group, as well as a control group that didn’t receive the treatment. If the proportion of customers making a purchase is significantly higher in the treatment group than the control group, we know that the promotion is “working” since it encourages a purchase on average across all customers. This is called the average treatment effect (ATE). Quantifying the ATE is the typical outcome of an A/B test.\n",
    "\n",
    "I use an anonymised dataset published by The Criteo AI Lab which is available [here][1]. The dataset is constructed from an incrementality tests, a particular randomized trial procedure where an advertiser prevents a random part of the population from being targeted by advertising. It consists of 13M rows, each one representing a user with 12 features, a treatment indicator and 2 labels (visits and conversions). \n",
    "\n",
    "A more detailed description of the features is shown below:\n",
    "* f0, f1, f2, f3, f4, f5, f6, f7, f8, f9, f10, f11: feature values (dense, float)\n",
    "* treatment: treatment group (1 = treated, 0 = control)\n",
    "* conversion: whether a conversion occured for this user (binary, label)\n",
    "* visit: whether a visit occured for this user (binary, label)\n",
    "* exposure: treatment effect, whether the user has been effectively exposed (binary)\n",
    "\n",
    "In real data, the features may correspond to such things as customer purchase history, demographics, and other quantities a data scientist may engineer with the hypothesis that they would be useful in modeling uplift.\n",
    "\n",
    "Let’s load the data and briefly explore it.\n",
    "\n",
    "[1]: https://www.kaggle.com/arashnic/uplift-modeling/"
   ]
  },
  {
   "cell_type": "code",
   "execution_count": 3,
   "metadata": {
    "execution": {
     "iopub.execute_input": "2021-01-11T09:48:43.013957Z",
     "iopub.status.busy": "2021-01-11T09:48:42.997316Z",
     "iopub.status.idle": "2021-01-11T09:48:43.020045Z",
     "shell.execute_reply": "2021-01-11T09:48:43.019056Z"
    },
    "papermill": {
     "duration": 0.071935,
     "end_time": "2021-01-11T09:48:43.020300",
     "exception": false,
     "start_time": "2021-01-11T09:48:42.948365",
     "status": "completed"
    },
    "tags": []
   },
   "outputs": [
    {
     "name": "stdout",
     "output_type": "stream",
     "text": [
      "<class 'pandas.core.frame.DataFrame'>\n",
      "RangeIndex: 13979592 entries, 0 to 13979591\n",
      "Data columns (total 16 columns):\n",
      " #   Column      Dtype  \n",
      "---  ------      -----  \n",
      " 0   f0          float64\n",
      " 1   f1          float64\n",
      " 2   f2          float64\n",
      " 3   f3          float64\n",
      " 4   f4          float64\n",
      " 5   f5          float64\n",
      " 6   f6          float64\n",
      " 7   f7          float64\n",
      " 8   f8          float64\n",
      " 9   f9          float64\n",
      " 10  f10         float64\n",
      " 11  f11         float64\n",
      " 12  treatment   int64  \n",
      " 13  conversion  int64  \n",
      " 14  visit       int64  \n",
      " 15  exposure    int64  \n",
      "dtypes: float64(12), int64(4)\n",
      "memory usage: 1.7 GB\n"
     ]
    }
   ],
   "source": [
    "df.info()"
   ]
  },
  {
   "cell_type": "code",
   "execution_count": 4,
   "metadata": {
    "execution": {
     "iopub.execute_input": "2021-01-11T09:48:43.118131Z",
     "iopub.status.busy": "2021-01-11T09:48:43.116937Z",
     "iopub.status.idle": "2021-01-11T09:48:43.133813Z",
     "shell.execute_reply": "2021-01-11T09:48:43.133014Z"
    },
    "papermill": {
     "duration": 0.073155,
     "end_time": "2021-01-11T09:48:43.133955",
     "exception": false,
     "start_time": "2021-01-11T09:48:43.060800",
     "status": "completed"
    },
    "tags": []
   },
   "outputs": [
    {
     "data": {
      "text/html": [
       "<div>\n",
       "<style scoped>\n",
       "    .dataframe tbody tr th:only-of-type {\n",
       "        vertical-align: middle;\n",
       "    }\n",
       "\n",
       "    .dataframe tbody tr th {\n",
       "        vertical-align: top;\n",
       "    }\n",
       "\n",
       "    .dataframe thead th {\n",
       "        text-align: right;\n",
       "    }\n",
       "</style>\n",
       "<table border=\"1\" class=\"dataframe\">\n",
       "  <thead>\n",
       "    <tr style=\"text-align: right;\">\n",
       "      <th></th>\n",
       "      <th>f0</th>\n",
       "      <th>f1</th>\n",
       "      <th>f2</th>\n",
       "      <th>f3</th>\n",
       "      <th>f4</th>\n",
       "      <th>f5</th>\n",
       "      <th>f6</th>\n",
       "      <th>f7</th>\n",
       "      <th>f8</th>\n",
       "      <th>f9</th>\n",
       "      <th>f10</th>\n",
       "      <th>f11</th>\n",
       "      <th>treatment</th>\n",
       "      <th>conversion</th>\n",
       "      <th>visit</th>\n",
       "      <th>exposure</th>\n",
       "    </tr>\n",
       "  </thead>\n",
       "  <tbody>\n",
       "    <tr>\n",
       "      <th>0</th>\n",
       "      <td>12.616365</td>\n",
       "      <td>10.059654</td>\n",
       "      <td>8.976429</td>\n",
       "      <td>4.679882</td>\n",
       "      <td>10.280525</td>\n",
       "      <td>4.115453</td>\n",
       "      <td>0.294443</td>\n",
       "      <td>4.833815</td>\n",
       "      <td>3.955396</td>\n",
       "      <td>13.190056</td>\n",
       "      <td>5.300375</td>\n",
       "      <td>-0.168679</td>\n",
       "      <td>1</td>\n",
       "      <td>0</td>\n",
       "      <td>0</td>\n",
       "      <td>0</td>\n",
       "    </tr>\n",
       "    <tr>\n",
       "      <th>1</th>\n",
       "      <td>12.616365</td>\n",
       "      <td>10.059654</td>\n",
       "      <td>9.002689</td>\n",
       "      <td>4.679882</td>\n",
       "      <td>10.280525</td>\n",
       "      <td>4.115453</td>\n",
       "      <td>0.294443</td>\n",
       "      <td>4.833815</td>\n",
       "      <td>3.955396</td>\n",
       "      <td>13.190056</td>\n",
       "      <td>5.300375</td>\n",
       "      <td>-0.168679</td>\n",
       "      <td>1</td>\n",
       "      <td>0</td>\n",
       "      <td>0</td>\n",
       "      <td>0</td>\n",
       "    </tr>\n",
       "    <tr>\n",
       "      <th>2</th>\n",
       "      <td>12.616365</td>\n",
       "      <td>10.059654</td>\n",
       "      <td>8.964775</td>\n",
       "      <td>4.679882</td>\n",
       "      <td>10.280525</td>\n",
       "      <td>4.115453</td>\n",
       "      <td>0.294443</td>\n",
       "      <td>4.833815</td>\n",
       "      <td>3.955396</td>\n",
       "      <td>13.190056</td>\n",
       "      <td>5.300375</td>\n",
       "      <td>-0.168679</td>\n",
       "      <td>1</td>\n",
       "      <td>0</td>\n",
       "      <td>0</td>\n",
       "      <td>0</td>\n",
       "    </tr>\n",
       "    <tr>\n",
       "      <th>3</th>\n",
       "      <td>12.616365</td>\n",
       "      <td>10.059654</td>\n",
       "      <td>9.002801</td>\n",
       "      <td>4.679882</td>\n",
       "      <td>10.280525</td>\n",
       "      <td>4.115453</td>\n",
       "      <td>0.294443</td>\n",
       "      <td>4.833815</td>\n",
       "      <td>3.955396</td>\n",
       "      <td>13.190056</td>\n",
       "      <td>5.300375</td>\n",
       "      <td>-0.168679</td>\n",
       "      <td>1</td>\n",
       "      <td>0</td>\n",
       "      <td>0</td>\n",
       "      <td>0</td>\n",
       "    </tr>\n",
       "    <tr>\n",
       "      <th>4</th>\n",
       "      <td>12.616365</td>\n",
       "      <td>10.059654</td>\n",
       "      <td>9.037999</td>\n",
       "      <td>4.679882</td>\n",
       "      <td>10.280525</td>\n",
       "      <td>4.115453</td>\n",
       "      <td>0.294443</td>\n",
       "      <td>4.833815</td>\n",
       "      <td>3.955396</td>\n",
       "      <td>13.190056</td>\n",
       "      <td>5.300375</td>\n",
       "      <td>-0.168679</td>\n",
       "      <td>1</td>\n",
       "      <td>0</td>\n",
       "      <td>0</td>\n",
       "      <td>0</td>\n",
       "    </tr>\n",
       "  </tbody>\n",
       "</table>\n",
       "</div>"
      ],
      "text/plain": [
       "          f0         f1        f2        f3         f4        f5        f6  \\\n",
       "0  12.616365  10.059654  8.976429  4.679882  10.280525  4.115453  0.294443   \n",
       "1  12.616365  10.059654  9.002689  4.679882  10.280525  4.115453  0.294443   \n",
       "2  12.616365  10.059654  8.964775  4.679882  10.280525  4.115453  0.294443   \n",
       "3  12.616365  10.059654  9.002801  4.679882  10.280525  4.115453  0.294443   \n",
       "4  12.616365  10.059654  9.037999  4.679882  10.280525  4.115453  0.294443   \n",
       "\n",
       "         f7        f8         f9       f10       f11  treatment  conversion  \\\n",
       "0  4.833815  3.955396  13.190056  5.300375 -0.168679          1           0   \n",
       "1  4.833815  3.955396  13.190056  5.300375 -0.168679          1           0   \n",
       "2  4.833815  3.955396  13.190056  5.300375 -0.168679          1           0   \n",
       "3  4.833815  3.955396  13.190056  5.300375 -0.168679          1           0   \n",
       "4  4.833815  3.955396  13.190056  5.300375 -0.168679          1           0   \n",
       "\n",
       "   visit  exposure  \n",
       "0      0         0  \n",
       "1      0         0  \n",
       "2      0         0  \n",
       "3      0         0  \n",
       "4      0         0  "
      ]
     },
     "execution_count": 4,
     "metadata": {},
     "output_type": "execute_result"
    }
   ],
   "source": [
    "df.head()"
   ]
  },
  {
   "cell_type": "code",
   "execution_count": 5,
   "metadata": {
    "execution": {
     "iopub.execute_input": "2021-01-11T09:48:43.218473Z",
     "iopub.status.busy": "2021-01-11T09:48:43.217604Z",
     "iopub.status.idle": "2021-01-11T09:48:43.222798Z",
     "shell.execute_reply": "2021-01-11T09:48:43.221946Z"
    },
    "papermill": {
     "duration": 0.050008,
     "end_time": "2021-01-11T09:48:43.222950",
     "exception": false,
     "start_time": "2021-01-11T09:48:43.172942",
     "status": "completed"
    },
    "tags": []
   },
   "outputs": [
    {
     "name": "stdout",
     "output_type": "stream",
     "text": [
      "Total number of samples: 13979592\n"
     ]
    }
   ],
   "source": [
    "print('Total number of samples: {}'.format(len(df)))"
   ]
  },
  {
   "cell_type": "code",
   "execution_count": 6,
   "metadata": {
    "execution": {
     "iopub.execute_input": "2021-01-11T09:48:43.307608Z",
     "iopub.status.busy": "2021-01-11T09:48:43.306889Z",
     "iopub.status.idle": "2021-01-11T09:48:43.399967Z",
     "shell.execute_reply": "2021-01-11T09:48:43.399268Z"
    },
    "papermill": {
     "duration": 0.137589,
     "end_time": "2021-01-11T09:48:43.400104",
     "exception": false,
     "start_time": "2021-01-11T09:48:43.262515",
     "status": "completed"
    },
    "tags": []
   },
   "outputs": [
    {
     "data": {
      "text/plain": [
       "1    0.85\n",
       "0    0.15\n",
       "Name: treatment, dtype: float64"
      ]
     },
     "execution_count": 6,
     "metadata": {},
     "output_type": "execute_result"
    }
   ],
   "source": [
    "df['treatment'].value_counts(normalize = True)"
   ]
  },
  {
   "cell_type": "markdown",
   "metadata": {
    "papermill": {
     "duration": 0.039473,
     "end_time": "2021-01-11T09:48:43.479341",
     "exception": false,
     "start_time": "2021-01-11T09:48:43.439868",
     "status": "completed"
    },
    "tags": []
   },
   "source": [
    "The dataset is largely imbalanced - around 85% of users were treated while only 15% were in the control group.\n",
    "\n",
    "# Basic Eda"
   ]
  },
  {
   "cell_type": "code",
   "execution_count": 7,
   "metadata": {
    "execution": {
     "iopub.execute_input": "2021-01-11T09:48:43.570632Z",
     "iopub.status.busy": "2021-01-11T09:48:43.569801Z",
     "iopub.status.idle": "2021-01-11T09:49:08.436913Z",
     "shell.execute_reply": "2021-01-11T09:49:08.437486Z"
    },
    "papermill": {
     "duration": 24.918558,
     "end_time": "2021-01-11T09:49:08.437670",
     "exception": false,
     "start_time": "2021-01-11T09:48:43.519112",
     "status": "completed"
    },
    "tags": []
   },
   "outputs": [
    {
     "data": {
      "text/plain": [
       "(array([ 0.5,  1.5,  2.5,  3.5,  4.5,  5.5,  6.5,  7.5,  8.5,  9.5, 10.5,\n",
       "        11.5, 12.5, 13.5, 14.5, 15.5]),\n",
       " <a list of 16 Text major ticklabel objects>)"
      ]
     },
     "execution_count": 7,
     "metadata": {},
     "output_type": "execute_result"
    },
    {
     "data": {
      "image/png": "[encoded data removed]",
      "text/plain": [
       "<Figure size 1440x1080 with 2 Axes>"
      ]
     },
     "metadata": {},
     "output_type": "display_data"
    }
   ],
   "source": [
    "style.use('ggplot')\n",
    "sns.set_style('whitegrid')\n",
    "plt.subplots(figsize = (20,15))\n",
    "## Plotting heatmap. \n",
    "\n",
    "# Generate a mask for the upper triangle (taken from seaborn example gallery)\n",
    "mask = np.zeros_like(df.corr(), dtype=np.bool)\n",
    "mask[np.triu_indices_from(mask)] = True\n",
    "\n",
    "\n",
    "sns.heatmap(df.corr(), cmap=sns.diverging_palette(20, 220, n=200), annot=True, mask=mask, center = 0, )\n",
    "plt.title(\"Heatmap of all the Features\", fontsize = 30)\n",
    "plt.yticks(rotation=0)"
   ]
  },
  {
   "cell_type": "code",
   "execution_count": 8,
   "metadata": {
    "execution": {
     "iopub.execute_input": "2021-01-11T09:49:08.535204Z",
     "iopub.status.busy": "2021-01-11T09:49:08.533919Z",
     "iopub.status.idle": "2021-01-11T09:49:08.823471Z",
     "shell.execute_reply": "2021-01-11T09:49:08.822727Z"
    },
    "papermill": {
     "duration": 0.341275,
     "end_time": "2021-01-11T09:49:08.823604",
     "exception": false,
     "start_time": "2021-01-11T09:49:08.482329",
     "status": "completed"
    },
    "tags": []
   },
   "outputs": [
    {
     "name": "stdout",
     "output_type": "stream",
     "text": [
      "Percentage of users that visit: 4.7%\n",
      "Percentage of users that convert: 0.29%\n",
      "Percentage of visitors that convert: 6.21%\n"
     ]
    }
   ],
   "source": [
    "print('Percentage of users that visit: {}%'.format(100*round(df['visit'].mean(),4)))\n",
    "print('Percentage of users that convert: {}%'.format(100*round(df['conversion'].mean(),4)))\n",
    "print('Percentage of visitors that convert: {}%'.format(100*round(df[df[\"visit\"]==1][\"conversion\"].mean(),4)))"
   ]
  },
  {
   "cell_type": "markdown",
   "metadata": {
    "papermill": {
     "duration": 0.042818,
     "end_time": "2021-01-11T09:49:08.909625",
     "exception": false,
     "start_time": "2021-01-11T09:49:08.866807",
     "status": "completed"
    },
    "tags": []
   },
   "source": [
    "Again, the 2 binary labels (visits and conversions) are both highly imbalanced but how do these metrics compare between the control and the treatment groups?"
   ]
  },
  {
   "cell_type": "code",
   "execution_count": 9,
   "metadata": {
    "execution": {
     "iopub.execute_input": "2021-01-11T09:49:09.004159Z",
     "iopub.status.busy": "2021-01-11T09:49:09.002902Z",
     "iopub.status.idle": "2021-01-11T09:49:09.474560Z",
     "shell.execute_reply": "2021-01-11T09:49:09.475249Z"
    },
    "papermill": {
     "duration": 0.522794,
     "end_time": "2021-01-11T09:49:09.475431",
     "exception": false,
     "start_time": "2021-01-11T09:49:08.952637",
     "status": "completed"
    },
    "tags": []
   },
   "outputs": [
    {
     "data": {
      "text/html": [
       "<div>\n",
       "<style scoped>\n",
       "    .dataframe tbody tr th:only-of-type {\n",
       "        vertical-align: middle;\n",
       "    }\n",
       "\n",
       "    .dataframe tbody tr th {\n",
       "        vertical-align: top;\n",
       "    }\n",
       "\n",
       "    .dataframe thead tr th {\n",
       "        text-align: left;\n",
       "    }\n",
       "\n",
       "    .dataframe thead tr:last-of-type th {\n",
       "        text-align: right;\n",
       "    }\n",
       "</style>\n",
       "<table border=\"1\" class=\"dataframe\">\n",
       "  <thead>\n",
       "    <tr>\n",
       "      <th></th>\n",
       "      <th colspan=\"3\" halign=\"left\">visit</th>\n",
       "    </tr>\n",
       "    <tr>\n",
       "      <th></th>\n",
       "      <th>mean</th>\n",
       "      <th>sum</th>\n",
       "      <th>count</th>\n",
       "    </tr>\n",
       "    <tr>\n",
       "      <th>treatment</th>\n",
       "      <th></th>\n",
       "      <th></th>\n",
       "      <th></th>\n",
       "    </tr>\n",
       "  </thead>\n",
       "  <tbody>\n",
       "    <tr>\n",
       "      <th>0</th>\n",
       "      <td>0.038201</td>\n",
       "      <td>80105</td>\n",
       "      <td>2096937</td>\n",
       "    </tr>\n",
       "    <tr>\n",
       "      <th>1</th>\n",
       "      <td>0.048543</td>\n",
       "      <td>576824</td>\n",
       "      <td>11882655</td>\n",
       "    </tr>\n",
       "  </tbody>\n",
       "</table>\n",
       "</div>"
      ],
      "text/plain": [
       "              visit                  \n",
       "               mean     sum     count\n",
       "treatment                            \n",
       "0          0.038201   80105   2096937\n",
       "1          0.048543  576824  11882655"
      ]
     },
     "execution_count": 9,
     "metadata": {},
     "output_type": "execute_result"
    }
   ],
   "source": [
    "vis_results_df = df.groupby('treatment').agg({'visit':['mean', 'sum', 'count']})\n",
    "vis_results_df"
   ]
  },
  {
   "cell_type": "code",
   "execution_count": 10,
   "metadata": {
    "execution": {
     "iopub.execute_input": "2021-01-11T09:49:09.567159Z",
     "iopub.status.busy": "2021-01-11T09:49:09.566452Z",
     "iopub.status.idle": "2021-01-11T09:49:10.036472Z",
     "shell.execute_reply": "2021-01-11T09:49:10.037159Z"
    },
    "papermill": {
     "duration": 0.518038,
     "end_time": "2021-01-11T09:49:10.037335",
     "exception": false,
     "start_time": "2021-01-11T09:49:09.519297",
     "status": "completed"
    },
    "tags": []
   },
   "outputs": [
    {
     "data": {
      "text/html": [
       "<div>\n",
       "<style scoped>\n",
       "    .dataframe tbody tr th:only-of-type {\n",
       "        vertical-align: middle;\n",
       "    }\n",
       "\n",
       "    .dataframe tbody tr th {\n",
       "        vertical-align: top;\n",
       "    }\n",
       "\n",
       "    .dataframe thead tr th {\n",
       "        text-align: left;\n",
       "    }\n",
       "\n",
       "    .dataframe thead tr:last-of-type th {\n",
       "        text-align: right;\n",
       "    }\n",
       "</style>\n",
       "<table border=\"1\" class=\"dataframe\">\n",
       "  <thead>\n",
       "    <tr>\n",
       "      <th></th>\n",
       "      <th colspan=\"3\" halign=\"left\">conversion</th>\n",
       "    </tr>\n",
       "    <tr>\n",
       "      <th></th>\n",
       "      <th>mean</th>\n",
       "      <th>sum</th>\n",
       "      <th>count</th>\n",
       "    </tr>\n",
       "    <tr>\n",
       "      <th>treatment</th>\n",
       "      <th></th>\n",
       "      <th></th>\n",
       "      <th></th>\n",
       "    </tr>\n",
       "  </thead>\n",
       "  <tbody>\n",
       "    <tr>\n",
       "      <th>0</th>\n",
       "      <td>0.001938</td>\n",
       "      <td>4063</td>\n",
       "      <td>2096937</td>\n",
       "    </tr>\n",
       "    <tr>\n",
       "      <th>1</th>\n",
       "      <td>0.003089</td>\n",
       "      <td>36711</td>\n",
       "      <td>11882655</td>\n",
       "    </tr>\n",
       "  </tbody>\n",
       "</table>\n",
       "</div>"
      ],
      "text/plain": [
       "          conversion                 \n",
       "                mean    sum     count\n",
       "treatment                            \n",
       "0           0.001938   4063   2096937\n",
       "1           0.003089  36711  11882655"
      ]
     },
     "execution_count": 10,
     "metadata": {},
     "output_type": "execute_result"
    }
   ],
   "source": [
    "con_results_df = df.groupby('treatment').agg({'conversion':['mean', 'sum', 'count']})\n",
    "con_results_df"
   ]
  },
  {
   "cell_type": "code",
   "execution_count": 11,
   "metadata": {
    "execution": {
     "iopub.execute_input": "2021-01-11T09:49:10.134625Z",
     "iopub.status.busy": "2021-01-11T09:49:10.133890Z",
     "iopub.status.idle": "2021-01-11T09:49:11.104750Z",
     "shell.execute_reply": "2021-01-11T09:49:11.104162Z"
    },
    "papermill": {
     "duration": 1.022799,
     "end_time": "2021-01-11T09:49:11.104884",
     "exception": false,
     "start_time": "2021-01-11T09:49:10.082085",
     "status": "completed"
    },
    "tags": []
   },
   "outputs": [
    {
     "name": "stdout",
     "output_type": "stream",
     "text": [
      "Difference in clickthrough rate between control and treatment: 0.0103\n",
      "Difference in conversion between control and treatment: 0.0012\n"
     ]
    }
   ],
   "source": [
    "print(f'Difference in clickthrough rate between control and treatment: {np.round(df.groupby(\"treatment\")[\"visit\"].mean()[1] - df.groupby(\"treatment\")[\"visit\"].mean()[0], 4)}')\n",
    "print(f'Difference in conversion between control and treatment: {np.round(df.groupby(\"treatment\")[\"conversion\"].mean()[1] - df.groupby(\"treatment\")[\"conversion\"].mean()[0], 4)}')"
   ]
  },
  {
   "cell_type": "markdown",
   "metadata": {
    "papermill": {
     "duration": 0.044806,
     "end_time": "2021-01-11T09:49:11.196020",
     "exception": false,
     "start_time": "2021-01-11T09:49:11.151214",
     "status": "completed"
    },
    "tags": []
   },
   "source": [
    "More users visit in the treatment (4.9%) than the control group (3.8%), indicating the treatment is effective at encouraging users to visit: the ATE is positive and is about 1%. This increase in visits also yields a higher conversion rate in the treatment group (0.31%) compared to the control group (0.19%). \n",
    "\n",
    "As the difference is not so large, a significance test is conducted."
   ]
  },
  {
   "cell_type": "code",
   "execution_count": 12,
   "metadata": {
    "execution": {
     "iopub.execute_input": "2021-01-11T09:49:11.294796Z",
     "iopub.status.busy": "2021-01-11T09:49:11.293907Z",
     "iopub.status.idle": "2021-01-11T09:49:11.303217Z",
     "shell.execute_reply": "2021-01-11T09:49:11.302659Z"
    },
    "papermill": {
     "duration": 0.061384,
     "end_time": "2021-01-11T09:49:11.303343",
     "exception": false,
     "start_time": "2021-01-11T09:49:11.241959",
     "status": "completed"
    },
    "tags": []
   },
   "outputs": [
    {
     "data": {
      "text/plain": [
       "0.0"
      ]
     },
     "execution_count": 12,
     "metadata": {},
     "output_type": "execute_result"
    }
   ],
   "source": [
    "proportions_ztest(count=vis_results_df[('visit', 'sum')],\n",
    "                  nobs=vis_results_df[('visit', 'count')])[1]"
   ]
  },
  {
   "cell_type": "code",
   "execution_count": 13,
   "metadata": {
    "execution": {
     "iopub.execute_input": "2021-01-11T09:49:11.398953Z",
     "iopub.status.busy": "2021-01-11T09:49:11.398212Z",
     "iopub.status.idle": "2021-01-11T09:49:11.406766Z",
     "shell.execute_reply": "2021-01-11T09:49:11.406196Z"
    },
    "papermill": {
     "duration": 0.05754,
     "end_time": "2021-01-11T09:49:11.406894",
     "exception": false,
     "start_time": "2021-01-11T09:49:11.349354",
     "status": "completed"
    },
    "tags": []
   },
   "outputs": [
    {
     "data": {
      "text/plain": [
       "7.30826328583868e-179"
      ]
     },
     "execution_count": 13,
     "metadata": {},
     "output_type": "execute_result"
    }
   ],
   "source": [
    "proportions_ztest(count=con_results_df[('conversion', 'sum')],\n",
    "                  nobs=con_results_df[('conversion', 'count')])[1]"
   ]
  },
  {
   "cell_type": "markdown",
   "metadata": {
    "papermill": {
     "duration": 0.045786,
     "end_time": "2021-01-11T09:49:11.499341",
     "exception": false,
     "start_time": "2021-01-11T09:49:11.453555",
     "status": "completed"
    },
    "tags": []
   },
   "source": [
    "The p-value is <0.05 for both, so we know the ATE is significant - which is the typical starting point for uplift modeling.\n",
    "\n",
    "It is worth pointing out that there is another variable called 'exposure' which indicates whether a treatment was properly exposed to the user. This is important because a user that is treated might still carry out an desired action (clicking, purchasing etc..) without actually being influenced by the treatment. It would be interesting to see whether there is a big differences in outcomes depending on whether a user was effectively exposed.\n",
    "\n",
    "First of all, how many users in the treatment group were exposed?"
   ]
  },
  {
   "cell_type": "code",
   "execution_count": 14,
   "metadata": {
    "execution": {
     "iopub.execute_input": "2021-01-11T09:49:11.600188Z",
     "iopub.status.busy": "2021-01-11T09:49:11.599503Z",
     "iopub.status.idle": "2021-01-11T09:49:12.878201Z",
     "shell.execute_reply": "2021-01-11T09:49:12.877491Z"
    },
    "papermill": {
     "duration": 1.331665,
     "end_time": "2021-01-11T09:49:12.878329",
     "exception": false,
     "start_time": "2021-01-11T09:49:11.546664",
     "status": "completed"
    },
    "tags": []
   },
   "outputs": [
    {
     "data": {
      "text/plain": [
       "0    0.963963\n",
       "1    0.036037\n",
       "Name: exposure, dtype: float64"
      ]
     },
     "execution_count": 14,
     "metadata": {},
     "output_type": "execute_result"
    }
   ],
   "source": [
    "df[df['treatment']==1]['exposure'].value_counts(normalize = True)"
   ]
  },
  {
   "cell_type": "markdown",
   "metadata": {
    "papermill": {
     "duration": 0.047111,
     "end_time": "2021-01-11T09:49:12.972616",
     "exception": false,
     "start_time": "2021-01-11T09:49:12.925505",
     "status": "completed"
    },
    "tags": []
   },
   "source": [
    "Only 3.6% or 1 out of every 28 users in our treatment group were effectively exposed to the treatment, suggesting the treatment is very ineffective at capturing the attention of the users. \n",
    "\n",
    "How does the number of users that visit and convert differ between treated users that were exposed, and those that were not?"
   ]
  },
  {
   "cell_type": "code",
   "execution_count": 15,
   "metadata": {
    "execution": {
     "iopub.execute_input": "2021-01-11T09:49:13.074167Z",
     "iopub.status.busy": "2021-01-11T09:49:13.073431Z",
     "iopub.status.idle": "2021-01-11T09:49:15.527940Z",
     "shell.execute_reply": "2021-01-11T09:49:15.528706Z"
    },
    "papermill": {
     "duration": 2.509,
     "end_time": "2021-01-11T09:49:15.529119",
     "exception": false,
     "start_time": "2021-01-11T09:49:13.020119",
     "status": "completed"
    },
    "tags": []
   },
   "outputs": [
    {
     "data": {
      "text/html": [
       "<div>\n",
       "<style scoped>\n",
       "    .dataframe tbody tr th:only-of-type {\n",
       "        vertical-align: middle;\n",
       "    }\n",
       "\n",
       "    .dataframe tbody tr th {\n",
       "        vertical-align: top;\n",
       "    }\n",
       "\n",
       "    .dataframe thead tr th {\n",
       "        text-align: left;\n",
       "    }\n",
       "\n",
       "    .dataframe thead tr:last-of-type th {\n",
       "        text-align: right;\n",
       "    }\n",
       "</style>\n",
       "<table border=\"1\" class=\"dataframe\">\n",
       "  <thead>\n",
       "    <tr>\n",
       "      <th></th>\n",
       "      <th colspan=\"3\" halign=\"left\">visit</th>\n",
       "    </tr>\n",
       "    <tr>\n",
       "      <th></th>\n",
       "      <th>mean</th>\n",
       "      <th>sum</th>\n",
       "      <th>count</th>\n",
       "    </tr>\n",
       "    <tr>\n",
       "      <th>exposure</th>\n",
       "      <th></th>\n",
       "      <th></th>\n",
       "      <th></th>\n",
       "    </tr>\n",
       "  </thead>\n",
       "  <tbody>\n",
       "    <tr>\n",
       "      <th>0</th>\n",
       "      <td>0.034861</td>\n",
       "      <td>399314</td>\n",
       "      <td>11454443</td>\n",
       "    </tr>\n",
       "    <tr>\n",
       "      <th>1</th>\n",
       "      <td>0.414538</td>\n",
       "      <td>177510</td>\n",
       "      <td>428212</td>\n",
       "    </tr>\n",
       "  </tbody>\n",
       "</table>\n",
       "</div>"
      ],
      "text/plain": [
       "             visit                  \n",
       "              mean     sum     count\n",
       "exposure                            \n",
       "0         0.034861  399314  11454443\n",
       "1         0.414538  177510    428212"
      ]
     },
     "execution_count": 15,
     "metadata": {},
     "output_type": "execute_result"
    }
   ],
   "source": [
    "vis_exp_results_df = df[df['treatment']==1].groupby('exposure').agg({'visit':['mean', 'sum', 'count']})\n",
    "vis_exp_results_df"
   ]
  },
  {
   "cell_type": "code",
   "execution_count": 16,
   "metadata": {
    "execution": {
     "iopub.execute_input": "2021-01-11T09:49:15.634555Z",
     "iopub.status.busy": "2021-01-11T09:49:15.633620Z",
     "iopub.status.idle": "2021-01-11T09:49:18.157057Z",
     "shell.execute_reply": "2021-01-11T09:49:18.156181Z"
    },
    "papermill": {
     "duration": 2.578486,
     "end_time": "2021-01-11T09:49:18.157209",
     "exception": false,
     "start_time": "2021-01-11T09:49:15.578723",
     "status": "completed"
    },
    "tags": []
   },
   "outputs": [
    {
     "data": {
      "text/html": [
       "<div>\n",
       "<style scoped>\n",
       "    .dataframe tbody tr th:only-of-type {\n",
       "        vertical-align: middle;\n",
       "    }\n",
       "\n",
       "    .dataframe tbody tr th {\n",
       "        vertical-align: top;\n",
       "    }\n",
       "\n",
       "    .dataframe thead tr th {\n",
       "        text-align: left;\n",
       "    }\n",
       "\n",
       "    .dataframe thead tr:last-of-type th {\n",
       "        text-align: right;\n",
       "    }\n",
       "</style>\n",
       "<table border=\"1\" class=\"dataframe\">\n",
       "  <thead>\n",
       "    <tr>\n",
       "      <th></th>\n",
       "      <th colspan=\"3\" halign=\"left\">conversion</th>\n",
       "    </tr>\n",
       "    <tr>\n",
       "      <th></th>\n",
       "      <th>mean</th>\n",
       "      <th>sum</th>\n",
       "      <th>count</th>\n",
       "    </tr>\n",
       "    <tr>\n",
       "      <th>exposure</th>\n",
       "      <th></th>\n",
       "      <th></th>\n",
       "      <th></th>\n",
       "    </tr>\n",
       "  </thead>\n",
       "  <tbody>\n",
       "    <tr>\n",
       "      <th>0</th>\n",
       "      <td>0.001194</td>\n",
       "      <td>13680</td>\n",
       "      <td>11454443</td>\n",
       "    </tr>\n",
       "    <tr>\n",
       "      <th>1</th>\n",
       "      <td>0.053784</td>\n",
       "      <td>23031</td>\n",
       "      <td>428212</td>\n",
       "    </tr>\n",
       "  </tbody>\n",
       "</table>\n",
       "</div>"
      ],
      "text/plain": [
       "         conversion                 \n",
       "               mean    sum     count\n",
       "exposure                            \n",
       "0          0.001194  13680  11454443\n",
       "1          0.053784  23031    428212"
      ]
     },
     "execution_count": 16,
     "metadata": {},
     "output_type": "execute_result"
    }
   ],
   "source": [
    "con_exp_results_df = df[df['treatment']==1].groupby('exposure').agg({'conversion':['mean', 'sum', 'count']})\n",
    "con_exp_results_df"
   ]
  },
  {
   "cell_type": "code",
   "execution_count": 17,
   "metadata": {
    "execution": {
     "iopub.execute_input": "2021-01-11T09:49:18.281022Z",
     "iopub.status.busy": "2021-01-11T09:49:18.279974Z",
     "iopub.status.idle": "2021-01-11T09:49:18.284941Z",
     "shell.execute_reply": "2021-01-11T09:49:18.285577Z"
    },
    "papermill": {
     "duration": 0.066839,
     "end_time": "2021-01-11T09:49:18.285754",
     "exception": false,
     "start_time": "2021-01-11T09:49:18.218915",
     "status": "completed"
    },
    "tags": []
   },
   "outputs": [
    {
     "data": {
      "text/plain": [
       "0.0"
      ]
     },
     "execution_count": 17,
     "metadata": {},
     "output_type": "execute_result"
    }
   ],
   "source": [
    "proportions_ztest(count=vis_exp_results_df[('visit', 'sum')],\n",
    "                  nobs=vis_exp_results_df[('visit', 'count')])[1]"
   ]
  },
  {
   "cell_type": "code",
   "execution_count": 18,
   "metadata": {
    "execution": {
     "iopub.execute_input": "2021-01-11T09:49:18.392470Z",
     "iopub.status.busy": "2021-01-11T09:49:18.391364Z",
     "iopub.status.idle": "2021-01-11T09:49:18.400366Z",
     "shell.execute_reply": "2021-01-11T09:49:18.401042Z"
    },
    "papermill": {
     "duration": 0.065016,
     "end_time": "2021-01-11T09:49:18.401203",
     "exception": false,
     "start_time": "2021-01-11T09:49:18.336187",
     "status": "completed"
    },
    "tags": []
   },
   "outputs": [
    {
     "data": {
      "text/plain": [
       "0.0"
      ]
     },
     "execution_count": 18,
     "metadata": {},
     "output_type": "execute_result"
    }
   ],
   "source": [
    "proportions_ztest(count=con_exp_results_df[('conversion', 'sum')],\n",
    "                  nobs=con_exp_results_df[('conversion', 'count')])[1]"
   ]
  },
  {
   "cell_type": "markdown",
   "metadata": {
    "papermill": {
     "duration": 0.051227,
     "end_time": "2021-01-11T09:49:18.503095",
     "exception": false,
     "start_time": "2021-01-11T09:49:18.451868",
     "status": "completed"
    },
    "tags": []
   },
   "source": [
    "There is a substantially higher clickthrough rate for treated users that were exposed (41%) than treated users that were not (3.5%). Similar results were found for conversion, with 5.3% of exposed users converting compared to only 0.12% of treated users that were not . These results, together with the p-value's (<0.5) suggest the intervention is having a significant impact, but is not being exposed to enough people. Lets see if theres any effect not being exposed has on the treatment group."
   ]
  },
  {
   "cell_type": "code",
   "execution_count": 19,
   "metadata": {
    "execution": {
     "iopub.execute_input": "2021-01-11T09:49:18.610990Z",
     "iopub.status.busy": "2021-01-11T09:49:18.610065Z",
     "iopub.status.idle": "2021-01-11T09:49:21.751544Z",
     "shell.execute_reply": "2021-01-11T09:49:21.750924Z"
    },
    "papermill": {
     "duration": 3.197114,
     "end_time": "2021-01-11T09:49:21.751694",
     "exception": false,
     "start_time": "2021-01-11T09:49:18.554580",
     "status": "completed"
    },
    "tags": []
   },
   "outputs": [
    {
     "data": {
      "text/html": [
       "<div>\n",
       "<style scoped>\n",
       "    .dataframe tbody tr th:only-of-type {\n",
       "        vertical-align: middle;\n",
       "    }\n",
       "\n",
       "    .dataframe tbody tr th {\n",
       "        vertical-align: top;\n",
       "    }\n",
       "\n",
       "    .dataframe thead tr th {\n",
       "        text-align: left;\n",
       "    }\n",
       "\n",
       "    .dataframe thead tr:last-of-type th {\n",
       "        text-align: right;\n",
       "    }\n",
       "</style>\n",
       "<table border=\"1\" class=\"dataframe\">\n",
       "  <thead>\n",
       "    <tr>\n",
       "      <th></th>\n",
       "      <th colspan=\"3\" halign=\"left\">visit</th>\n",
       "    </tr>\n",
       "    <tr>\n",
       "      <th></th>\n",
       "      <th>mean</th>\n",
       "      <th>sum</th>\n",
       "      <th>count</th>\n",
       "    </tr>\n",
       "    <tr>\n",
       "      <th>treatment</th>\n",
       "      <th></th>\n",
       "      <th></th>\n",
       "      <th></th>\n",
       "    </tr>\n",
       "  </thead>\n",
       "  <tbody>\n",
       "    <tr>\n",
       "      <th>0</th>\n",
       "      <td>0.038201</td>\n",
       "      <td>80105</td>\n",
       "      <td>2096937</td>\n",
       "    </tr>\n",
       "    <tr>\n",
       "      <th>1</th>\n",
       "      <td>0.034861</td>\n",
       "      <td>399314</td>\n",
       "      <td>11454443</td>\n",
       "    </tr>\n",
       "  </tbody>\n",
       "</table>\n",
       "</div>"
      ],
      "text/plain": [
       "              visit                  \n",
       "               mean     sum     count\n",
       "treatment                            \n",
       "0          0.038201   80105   2096937\n",
       "1          0.034861  399314  11454443"
      ]
     },
     "execution_count": 19,
     "metadata": {},
     "output_type": "execute_result"
    }
   ],
   "source": [
    "df[df['exposure']==0].groupby('treatment').agg({'visit':['mean', 'sum', 'count']})"
   ]
  },
  {
   "cell_type": "code",
   "execution_count": 20,
   "metadata": {
    "execution": {
     "iopub.execute_input": "2021-01-11T09:49:21.862329Z",
     "iopub.status.busy": "2021-01-11T09:49:21.861000Z",
     "iopub.status.idle": "2021-01-11T09:49:24.990972Z",
     "shell.execute_reply": "2021-01-11T09:49:24.991534Z"
    },
    "papermill": {
     "duration": 3.1885,
     "end_time": "2021-01-11T09:49:24.991724",
     "exception": false,
     "start_time": "2021-01-11T09:49:21.803224",
     "status": "completed"
    },
    "tags": []
   },
   "outputs": [
    {
     "data": {
      "text/html": [
       "<div>\n",
       "<style scoped>\n",
       "    .dataframe tbody tr th:only-of-type {\n",
       "        vertical-align: middle;\n",
       "    }\n",
       "\n",
       "    .dataframe tbody tr th {\n",
       "        vertical-align: top;\n",
       "    }\n",
       "\n",
       "    .dataframe thead tr th {\n",
       "        text-align: left;\n",
       "    }\n",
       "\n",
       "    .dataframe thead tr:last-of-type th {\n",
       "        text-align: right;\n",
       "    }\n",
       "</style>\n",
       "<table border=\"1\" class=\"dataframe\">\n",
       "  <thead>\n",
       "    <tr>\n",
       "      <th></th>\n",
       "      <th colspan=\"3\" halign=\"left\">conversion</th>\n",
       "    </tr>\n",
       "    <tr>\n",
       "      <th></th>\n",
       "      <th>mean</th>\n",
       "      <th>sum</th>\n",
       "      <th>count</th>\n",
       "    </tr>\n",
       "    <tr>\n",
       "      <th>treatment</th>\n",
       "      <th></th>\n",
       "      <th></th>\n",
       "      <th></th>\n",
       "    </tr>\n",
       "  </thead>\n",
       "  <tbody>\n",
       "    <tr>\n",
       "      <th>0</th>\n",
       "      <td>0.001938</td>\n",
       "      <td>4063</td>\n",
       "      <td>2096937</td>\n",
       "    </tr>\n",
       "    <tr>\n",
       "      <th>1</th>\n",
       "      <td>0.001194</td>\n",
       "      <td>13680</td>\n",
       "      <td>11454443</td>\n",
       "    </tr>\n",
       "  </tbody>\n",
       "</table>\n",
       "</div>"
      ],
      "text/plain": [
       "          conversion                 \n",
       "                mean    sum     count\n",
       "treatment                            \n",
       "0           0.001938   4063   2096937\n",
       "1           0.001194  13680  11454443"
      ]
     },
     "execution_count": 20,
     "metadata": {},
     "output_type": "execute_result"
    }
   ],
   "source": [
    "df[df['exposure']==0].groupby('treatment').agg({'conversion':['mean', 'sum', 'count']})"
   ]
  },
  {
   "cell_type": "markdown",
   "metadata": {
    "papermill": {
     "duration": 0.05,
     "end_time": "2021-01-11T09:49:25.093363",
     "exception": false,
     "start_time": "2021-01-11T09:49:25.043363",
     "status": "completed"
    },
    "tags": []
   },
   "source": [
    "Incredibly, the percentage of users that convert and visit in the treatment actually declines if they are not exposed, meaning the ATE is negative. In a real life scenario, this would need to be addressed.\n",
    "\n",
    "\n",
    "# Resampling\n",
    "In thise case, I will be focusing my uplift models on the incremental number of visits due to the number of users that do not convert. Before proceeding with modelling, it is worth considering any imbalance in the dataset and addressing it accordingly."
   ]
  },
  {
   "cell_type": "code",
   "execution_count": 21,
   "metadata": {
    "execution": {
     "iopub.execute_input": "2021-01-11T09:49:25.207555Z",
     "iopub.status.busy": "2021-01-11T09:49:25.206761Z",
     "iopub.status.idle": "2021-01-11T09:49:25.496661Z",
     "shell.execute_reply": "2021-01-11T09:49:25.495582Z"
    },
    "papermill": {
     "duration": 0.352538,
     "end_time": "2021-01-11T09:49:25.496817",
     "exception": false,
     "start_time": "2021-01-11T09:49:25.144279",
     "status": "completed"
    },
    "tags": []
   },
   "outputs": [
    {
     "name": "stdout",
     "output_type": "stream",
     "text": [
      "Class 0: 2096937\n",
      "Class 1: 11882655\n",
      "Proportion: 6 : 1\n"
     ]
    },
    {
     "data": {
      "text/plain": [
       "(array([0, 1]), <a list of 2 Text major ticklabel objects>)"
      ]
     },
     "execution_count": 21,
     "metadata": {},
     "output_type": "execute_result"
    },
    {
     "data": {
      "image/png": "[encoded data removed]",
      "text/plain": [
       "<Figure size 720x432 with 1 Axes>"
      ]
     },
     "metadata": {},
     "output_type": "display_data"
    }
   ],
   "source": [
    "fig = plt.figure(figsize = (10,6))\n",
    "target_count = df['treatment'].value_counts()\n",
    "print('Class 0:', target_count[0])\n",
    "print('Class 1:', target_count[1])\n",
    "print('Proportion:', int(round(target_count[1] / target_count[0])), ': 1')\n",
    "target_count.plot(kind='bar', title='Treatment Class Distribution', color=['#2077B4', '#FF7F0E'], fontsize = 15)\n",
    "plt.xticks(rotation=0) "
   ]
  },
  {
   "cell_type": "markdown",
   "metadata": {
    "papermill": {
     "duration": 0.052038,
     "end_time": "2021-01-11T09:49:25.601357",
     "exception": false,
     "start_time": "2021-01-11T09:49:25.549319",
     "status": "completed"
    },
    "tags": []
   },
   "source": [
    "By seeing the distributions we can have an idea how skewed the target variable is - most of the users were in the treatment group. The problem is that many approaches uplift models assume the treatment group and the control group have a balanced distribution, which needs not hold in practice. In this case we may reweight, or resample, the training datasets such that the assumption becomes valid. According to Jaśkowski and Jaroszewicz (2012) resampling the treatment distribution can affect the learning algorithm and result in information loss, however, as long as the algorithm does a reasonably good job at modeling the conditional class distributions, the results will still be meaningful. As our dataset consists of 13M rows, we can be fairly confident any resampled dataset will contain enough instances to provide meaningful results.\n",
    "\n",
    "Before proceeding with the random undersampling we have to separate the orginal dataframe so that the undersampling is only done on the training dataset. Why? for testing purposes, we want to test our models on a dataset with real life class distributions."
   ]
  },
  {
   "cell_type": "code",
   "execution_count": 22,
   "metadata": {
    "execution": {
     "iopub.execute_input": "2021-01-11T09:49:25.715366Z",
     "iopub.status.busy": "2021-01-11T09:49:25.714572Z",
     "iopub.status.idle": "2021-01-11T09:49:42.941858Z",
     "shell.execute_reply": "2021-01-11T09:49:42.941044Z"
    },
    "papermill": {
     "duration": 17.28684,
     "end_time": "2021-01-11T09:49:42.941994",
     "exception": false,
     "start_time": "2021-01-11T09:49:25.655154",
     "status": "completed"
    },
    "tags": []
   },
   "outputs": [],
   "source": [
    "train, test  = train_test_split(df, test_size=0.2, random_state=42, stratify=df['treatment'])"
   ]
  },
  {
   "cell_type": "code",
   "execution_count": 23,
   "metadata": {
    "execution": {
     "iopub.execute_input": "2021-01-11T09:49:43.060160Z",
     "iopub.status.busy": "2021-01-11T09:49:43.058900Z",
     "iopub.status.idle": "2021-01-11T09:49:43.061798Z",
     "shell.execute_reply": "2021-01-11T09:49:43.062300Z"
    },
    "papermill": {
     "duration": 0.066309,
     "end_time": "2021-01-11T09:49:43.062494",
     "exception": false,
     "start_time": "2021-01-11T09:49:42.996185",
     "status": "completed"
    },
    "tags": []
   },
   "outputs": [],
   "source": [
    "# Random Undersampling (finding the majority class and undersampling it)\n",
    "def random_under(df:pd.DataFrame, feature):\n",
    "    \n",
    "    target = df[feature].value_counts()\n",
    "    \n",
    "    if target.values[0]<target.values[1]:\n",
    "        under = target.index.values[1]\n",
    "    \n",
    "    else: \n",
    "        under = target.index.values[0]\n",
    "        \n",
    "    df_0 = df[df[feature] != under]\n",
    "    df_1 = df[df[feature] == under]\n",
    "    \n",
    "    df_treatment_under = df_1.sample(len(df_0))\n",
    "    df_1 = pd.concat([df_treatment_under, df_0], axis=0)\n",
    "    \n",
    "    return df_1"
   ]
  },
  {
   "cell_type": "code",
   "execution_count": 24,
   "metadata": {
    "execution": {
     "iopub.execute_input": "2021-01-11T09:49:43.173685Z",
     "iopub.status.busy": "2021-01-11T09:49:43.172592Z",
     "iopub.status.idle": "2021-01-11T09:49:46.383503Z",
     "shell.execute_reply": "2021-01-11T09:49:46.384199Z"
    },
    "papermill": {
     "duration": 3.269282,
     "end_time": "2021-01-11T09:49:46.384371",
     "exception": false,
     "start_time": "2021-01-11T09:49:43.115089",
     "status": "completed"
    },
    "tags": []
   },
   "outputs": [],
   "source": [
    "train = random_under(train, 'treatment')"
   ]
  },
  {
   "cell_type": "code",
   "execution_count": 25,
   "metadata": {
    "execution": {
     "iopub.execute_input": "2021-01-11T09:49:46.502633Z",
     "iopub.status.busy": "2021-01-11T09:49:46.501849Z",
     "iopub.status.idle": "2021-01-11T09:49:46.697793Z",
     "shell.execute_reply": "2021-01-11T09:49:46.697135Z"
    },
    "papermill": {
     "duration": 0.25692,
     "end_time": "2021-01-11T09:49:46.697923",
     "exception": false,
     "start_time": "2021-01-11T09:49:46.441003",
     "status": "completed"
    },
    "tags": []
   },
   "outputs": [
    {
     "name": "stdout",
     "output_type": "stream",
     "text": [
      "Class 0: 1677550\n",
      "Class 1: 1677550\n",
      "Proportion: 1 : 1\n"
     ]
    },
    {
     "data": {
      "text/plain": [
       "(array([0, 1]), <a list of 2 Text major ticklabel objects>)"
      ]
     },
     "execution_count": 25,
     "metadata": {},
     "output_type": "execute_result"
    },
    {
     "data": {
      "image/png": "[encoded data removed]",
      "text/plain": [
       "<Figure size 720x432 with 1 Axes>"
      ]
     },
     "metadata": {},
     "output_type": "display_data"
    }
   ],
   "source": [
    "fig = plt.figure(figsize = (10,6))\n",
    "new_target_count = train['treatment'].value_counts()\n",
    "print('Class 0:', new_target_count[0])\n",
    "print('Class 1:', new_target_count[1])\n",
    "print('Proportion:', int(round(new_target_count[0] / new_target_count[1])), ': 1')\n",
    "new_target_count.plot(kind='bar', title='Target Class Distribution', color=['#2077B4', '#FF7F0E'], fontsize = 15)\n",
    "plt.xticks(rotation=0) "
   ]
  },
  {
   "cell_type": "markdown",
   "metadata": {
    "papermill": {
     "duration": 0.053707,
     "end_time": "2021-01-11T09:49:46.806317",
     "exception": false,
     "start_time": "2021-01-11T09:49:46.752610",
     "status": "completed"
    },
    "tags": []
   },
   "source": [
    "As can be seen, the new training dataset has a total of 3,355,100 instances with 50% in the treatment and 50% in the control groups.\n",
    "\n",
    "# Uplift Modelling\n",
    "The Uplift model used in this notebook is the Generalized Weighed Uplift (LGWUM) (Kane et al., 2014). LGWUM is one of several methods available for Uplift Modeling, and uses an approach to Uplift Modelling better known as Class Variable Transformation. LGWUM assumes that positive uplift lies in treating treatment-group responders (TR) and control-group non-responders (CN), whilst avoiding treatment-group non-responders (TN) and control-group responders (CR). This is visually shown as:\n",
    "\n",
    "𝑈𝑝𝑙𝑖𝑓𝑡 𝐿𝐺𝑊𝑈𝑀 = P(TR)/P(T) + P(CN)/P(C) - P(TN)/P(T) - P(CR)/P(C)"
   ]
  },
  {
   "cell_type": "code",
   "execution_count": 26,
   "metadata": {
    "execution": {
     "iopub.execute_input": "2021-01-11T09:49:46.924821Z",
     "iopub.status.busy": "2021-01-11T09:49:46.923969Z",
     "iopub.status.idle": "2021-01-11T09:49:46.927428Z",
     "shell.execute_reply": "2021-01-11T09:49:46.926865Z"
    },
    "papermill": {
     "duration": 0.066972,
     "end_time": "2021-01-11T09:49:46.927554",
     "exception": false,
     "start_time": "2021-01-11T09:49:46.860582",
     "status": "completed"
    },
    "tags": []
   },
   "outputs": [],
   "source": [
    "# Function to declare Target Class\n",
    "\n",
    "def target_class(df, treatment, target):\n",
    "    \n",
    "    #CN:\n",
    "    df['target_class'] = 0 \n",
    "    #CR:\n",
    "    df.loc[(df[treatment] == 0) & (df[target] != 0),'target_class'] = 1 \n",
    "    #TN:\n",
    "    df.loc[(df[treatment] != 0) & (df[target] == 0),'target_class'] = 2 \n",
    "    #TR:\n",
    "    df.loc[(df[treatment] != 0) & (df[target] != 0),'target_class'] = 3 \n",
    "    return df"
   ]
  },
  {
   "cell_type": "code",
   "execution_count": 27,
   "metadata": {
    "execution": {
     "iopub.execute_input": "2021-01-11T09:49:47.236929Z",
     "iopub.status.busy": "2021-01-11T09:49:47.236097Z",
     "iopub.status.idle": "2021-01-11T09:49:47.790010Z",
     "shell.execute_reply": "2021-01-11T09:49:47.789430Z"
    },
    "papermill": {
     "duration": 0.806547,
     "end_time": "2021-01-11T09:49:47.790144",
     "exception": false,
     "start_time": "2021-01-11T09:49:46.983597",
     "status": "completed"
    },
    "tags": []
   },
   "outputs": [],
   "source": [
    "train = target_class(train.drop(columns = ['conversion', 'exposure']), 'treatment', 'visit')\n",
    "test = target_class(test.drop(columns = ['conversion', 'exposure']), 'treatment', 'visit')"
   ]
  },
  {
   "cell_type": "code",
   "execution_count": 28,
   "metadata": {
    "execution": {
     "iopub.execute_input": "2021-01-11T09:49:48.092001Z",
     "iopub.status.busy": "2021-01-11T09:49:48.090364Z",
     "iopub.status.idle": "2021-01-11T09:49:48.184642Z",
     "shell.execute_reply": "2021-01-11T09:49:48.183869Z"
    },
    "papermill": {
     "duration": 0.340272,
     "end_time": "2021-01-11T09:49:48.184772",
     "exception": false,
     "start_time": "2021-01-11T09:49:47.844500",
     "status": "completed"
    },
    "tags": []
   },
   "outputs": [],
   "source": [
    "X_train = train.drop(['visit','target_class'],axis=1)\n",
    "y_train = train['target_class']\n",
    "X_test = test.drop(['visit','target_class'],axis=1)\n",
    "y_test = test['target_class']"
   ]
  },
  {
   "cell_type": "markdown",
   "metadata": {
    "papermill": {
     "duration": 0.056088,
     "end_time": "2021-01-11T09:49:48.307134",
     "exception": false,
     "start_time": "2021-01-11T09:49:48.251046",
     "status": "completed"
    },
    "tags": []
   },
   "source": [
    "The model works by predicting the probability that a given customer belongs to each  classes. The uplift can then be calculated as the differences between these probabilities."
   ]
  },
  {
   "cell_type": "code",
   "execution_count": 29,
   "metadata": {
    "execution": {
     "iopub.execute_input": "2021-01-11T09:49:48.430004Z",
     "iopub.status.busy": "2021-01-11T09:49:48.428937Z",
     "iopub.status.idle": "2021-01-11T09:49:48.431704Z",
     "shell.execute_reply": "2021-01-11T09:49:48.432198Z"
    },
    "papermill": {
     "duration": 0.070335,
     "end_time": "2021-01-11T09:49:48.432368",
     "exception": false,
     "start_time": "2021-01-11T09:49:48.362033",
     "status": "completed"
    },
    "tags": []
   },
   "outputs": [],
   "source": [
    "def uplift_model(X_train,\n",
    "                 X_test,\n",
    "                 y_train,\n",
    "                 y_test,\n",
    "                 treatment_feature):\n",
    "\n",
    "    result = pd.DataFrame(X_test).copy()    \n",
    "    uplift_model = xgb.XGBClassifier().fit(X_train.drop(treatment_feature, axis=1), y_train)\n",
    "    \n",
    "    uplift_proba = uplift_model.predict_proba(X_test.drop(treatment_feature, axis=1))\n",
    "    \n",
    "    result['p_cn'] = uplift_proba[:,0] \n",
    "    result['p_cr'] = uplift_proba[:,1] \n",
    "    result['p_tn'] = uplift_proba[:,2] \n",
    "    result['p_tr'] = uplift_proba[:,3]\n",
    "    \n",
    "    result['uplift_score'] = result.eval('\\\n",
    "    p_cn/(p_cn + p_cr) \\\n",
    "    + p_tr/(p_tn + p_tr) \\\n",
    "    - p_tn/(p_tn + p_tr) \\\n",
    "    - p_cr/(p_cn + p_cr)')  \n",
    "\n",
    "    # Put the result \n",
    "    result['target_class'] = y_test\n",
    "    \n",
    "    return result"
   ]
  },
  {
   "cell_type": "code",
   "execution_count": 30,
   "metadata": {
    "execution": {
     "iopub.execute_input": "2021-01-11T09:49:48.549558Z",
     "iopub.status.busy": "2021-01-11T09:49:48.548843Z",
     "iopub.status.idle": "2021-01-11T10:07:42.953460Z",
     "shell.execute_reply": "2021-01-11T10:07:42.954087Z"
    },
    "papermill": {
     "duration": 1074.466493,
     "end_time": "2021-01-11T10:07:42.954271",
     "exception": false,
     "start_time": "2021-01-11T09:49:48.487778",
     "status": "completed"
    },
    "tags": []
   },
   "outputs": [
    {
     "data": {
      "text/html": [
       "<div>\n",
       "<style scoped>\n",
       "    .dataframe tbody tr th:only-of-type {\n",
       "        vertical-align: middle;\n",
       "    }\n",
       "\n",
       "    .dataframe tbody tr th {\n",
       "        vertical-align: top;\n",
       "    }\n",
       "\n",
       "    .dataframe thead th {\n",
       "        text-align: right;\n",
       "    }\n",
       "</style>\n",
       "<table border=\"1\" class=\"dataframe\">\n",
       "  <thead>\n",
       "    <tr style=\"text-align: right;\">\n",
       "      <th></th>\n",
       "      <th>f0</th>\n",
       "      <th>f1</th>\n",
       "      <th>f2</th>\n",
       "      <th>f3</th>\n",
       "      <th>f4</th>\n",
       "      <th>f5</th>\n",
       "      <th>f6</th>\n",
       "      <th>f7</th>\n",
       "      <th>f8</th>\n",
       "      <th>f9</th>\n",
       "      <th>f10</th>\n",
       "      <th>f11</th>\n",
       "      <th>treatment</th>\n",
       "      <th>p_cn</th>\n",
       "      <th>p_cr</th>\n",
       "      <th>p_tn</th>\n",
       "      <th>p_tr</th>\n",
       "      <th>uplift_score</th>\n",
       "      <th>target_class</th>\n",
       "    </tr>\n",
       "  </thead>\n",
       "  <tbody>\n",
       "    <tr>\n",
       "      <th>6304619</th>\n",
       "      <td>21.890358</td>\n",
       "      <td>10.059654</td>\n",
       "      <td>8.214383</td>\n",
       "      <td>4.679882</td>\n",
       "      <td>10.280525</td>\n",
       "      <td>4.115453</td>\n",
       "      <td>-4.595460</td>\n",
       "      <td>4.833815</td>\n",
       "      <td>3.971858</td>\n",
       "      <td>13.190056</td>\n",
       "      <td>5.300375</td>\n",
       "      <td>-0.168679</td>\n",
       "      <td>0</td>\n",
       "      <td>0.501398</td>\n",
       "      <td>0.000227</td>\n",
       "      <td>0.497943</td>\n",
       "      <td>0.000432</td>\n",
       "      <td>0.000828</td>\n",
       "      <td>0</td>\n",
       "    </tr>\n",
       "    <tr>\n",
       "      <th>4045638</th>\n",
       "      <td>15.995929</td>\n",
       "      <td>10.059654</td>\n",
       "      <td>8.214383</td>\n",
       "      <td>0.973841</td>\n",
       "      <td>10.280525</td>\n",
       "      <td>4.115453</td>\n",
       "      <td>-7.301017</td>\n",
       "      <td>4.833815</td>\n",
       "      <td>3.971858</td>\n",
       "      <td>13.190056</td>\n",
       "      <td>5.300375</td>\n",
       "      <td>-0.168679</td>\n",
       "      <td>1</td>\n",
       "      <td>0.497313</td>\n",
       "      <td>0.001595</td>\n",
       "      <td>0.498510</td>\n",
       "      <td>0.002583</td>\n",
       "      <td>0.003917</td>\n",
       "      <td>2</td>\n",
       "    </tr>\n",
       "    <tr>\n",
       "      <th>5767216</th>\n",
       "      <td>19.111923</td>\n",
       "      <td>10.059654</td>\n",
       "      <td>8.214383</td>\n",
       "      <td>3.359763</td>\n",
       "      <td>10.280525</td>\n",
       "      <td>4.115453</td>\n",
       "      <td>-2.411115</td>\n",
       "      <td>4.833815</td>\n",
       "      <td>3.971858</td>\n",
       "      <td>13.190056</td>\n",
       "      <td>5.300375</td>\n",
       "      <td>-0.168679</td>\n",
       "      <td>0</td>\n",
       "      <td>0.502048</td>\n",
       "      <td>0.000478</td>\n",
       "      <td>0.496681</td>\n",
       "      <td>0.000794</td>\n",
       "      <td>0.001291</td>\n",
       "      <td>0</td>\n",
       "    </tr>\n",
       "    <tr>\n",
       "      <th>9668584</th>\n",
       "      <td>12.870404</td>\n",
       "      <td>10.059654</td>\n",
       "      <td>8.979246</td>\n",
       "      <td>-1.025575</td>\n",
       "      <td>10.280525</td>\n",
       "      <td>4.115453</td>\n",
       "      <td>-16.175537</td>\n",
       "      <td>4.833815</td>\n",
       "      <td>3.902645</td>\n",
       "      <td>13.190056</td>\n",
       "      <td>5.300375</td>\n",
       "      <td>-0.168679</td>\n",
       "      <td>1</td>\n",
       "      <td>0.426351</td>\n",
       "      <td>0.009061</td>\n",
       "      <td>0.541204</td>\n",
       "      <td>0.023385</td>\n",
       "      <td>0.041219</td>\n",
       "      <td>2</td>\n",
       "    </tr>\n",
       "    <tr>\n",
       "      <th>830405</th>\n",
       "      <td>21.992620</td>\n",
       "      <td>10.059654</td>\n",
       "      <td>8.214383</td>\n",
       "      <td>4.679882</td>\n",
       "      <td>10.280525</td>\n",
       "      <td>4.115453</td>\n",
       "      <td>-2.411115</td>\n",
       "      <td>4.833815</td>\n",
       "      <td>3.971858</td>\n",
       "      <td>13.190056</td>\n",
       "      <td>5.300375</td>\n",
       "      <td>-0.168679</td>\n",
       "      <td>1</td>\n",
       "      <td>0.501502</td>\n",
       "      <td>0.000234</td>\n",
       "      <td>0.498045</td>\n",
       "      <td>0.000220</td>\n",
       "      <td>-0.000050</td>\n",
       "      <td>2</td>\n",
       "    </tr>\n",
       "  </tbody>\n",
       "</table>\n",
       "</div>"
      ],
      "text/plain": [
       "                f0         f1        f2        f3         f4        f5  \\\n",
       "6304619  21.890358  10.059654  8.214383  4.679882  10.280525  4.115453   \n",
       "4045638  15.995929  10.059654  8.214383  0.973841  10.280525  4.115453   \n",
       "5767216  19.111923  10.059654  8.214383  3.359763  10.280525  4.115453   \n",
       "9668584  12.870404  10.059654  8.979246 -1.025575  10.280525  4.115453   \n",
       "830405   21.992620  10.059654  8.214383  4.679882  10.280525  4.115453   \n",
       "\n",
       "                f6        f7        f8         f9       f10       f11  \\\n",
       "6304619  -4.595460  4.833815  3.971858  13.190056  5.300375 -0.168679   \n",
       "4045638  -7.301017  4.833815  3.971858  13.190056  5.300375 -0.168679   \n",
       "5767216  -2.411115  4.833815  3.971858  13.190056  5.300375 -0.168679   \n",
       "9668584 -16.175537  4.833815  3.902645  13.190056  5.300375 -0.168679   \n",
       "830405   -2.411115  4.833815  3.971858  13.190056  5.300375 -0.168679   \n",
       "\n",
       "         treatment      p_cn      p_cr      p_tn      p_tr  uplift_score  \\\n",
       "6304619          0  0.501398  0.000227  0.497943  0.000432      0.000828   \n",
       "4045638          1  0.497313  0.001595  0.498510  0.002583      0.003917   \n",
       "5767216          0  0.502048  0.000478  0.496681  0.000794      0.001291   \n",
       "9668584          1  0.426351  0.009061  0.541204  0.023385      0.041219   \n",
       "830405           1  0.501502  0.000234  0.498045  0.000220     -0.000050   \n",
       "\n",
       "         target_class  \n",
       "6304619             0  \n",
       "4045638             2  \n",
       "5767216             0  \n",
       "9668584             2  \n",
       "830405              2  "
      ]
     },
     "execution_count": 30,
     "metadata": {},
     "output_type": "execute_result"
    }
   ],
   "source": [
    "result = uplift_model(X_train, X_test, y_train, y_test, 'treatment')\n",
    "result.head()"
   ]
  },
  {
   "cell_type": "code",
   "execution_count": 31,
   "metadata": {
    "execution": {
     "iopub.execute_input": "2021-01-11T10:07:43.078295Z",
     "iopub.status.busy": "2021-01-11T10:07:43.077455Z",
     "iopub.status.idle": "2021-01-11T10:07:45.408202Z",
     "shell.execute_reply": "2021-01-11T10:07:45.408768Z"
    },
    "papermill": {
     "duration": 2.396031,
     "end_time": "2021-01-11T10:07:45.408959",
     "exception": false,
     "start_time": "2021-01-11T10:07:43.012928",
     "status": "completed"
    },
    "tags": []
   },
   "outputs": [
    {
     "data": {
      "text/plain": [
       "Text(0, 0.5, 'Number of observations in validation set')"
      ]
     },
     "execution_count": 31,
     "metadata": {},
     "output_type": "execute_result"
    },
    {
     "data": {
      "image/png": "[encoded data removed]",
      "text/plain": [
       "<Figure size 720x432 with 1 Axes>"
      ]
     },
     "metadata": {},
     "output_type": "display_data"
    }
   ],
   "source": [
    "plt.figure(figsize = (10,6))\n",
    "plt.xlim(-.05, .1)\n",
    "plt.hist(result.uplift_score, bins=1000, color=['#2077B4'])\n",
    "plt.xlabel('Uplift score')\n",
    "plt.ylabel('Number of observations in validation set')"
   ]
  },
  {
   "cell_type": "markdown",
   "metadata": {
    "papermill": {
     "duration": 0.056981,
     "end_time": "2021-01-11T10:07:45.523453",
     "exception": false,
     "start_time": "2021-01-11T10:07:45.466472",
     "status": "completed"
    },
    "tags": []
   },
   "source": [
    "The distribution of uplift is mostly positive, which makes sense since we know from our analysis that the treatment encourages visits on average. However some instances have negative uplift, meaning the treatment actually discourages individuals from visiting ('sleeping dogs'). Going back to our previous analyses, this could be the individuals who were not properly exposed to the treatment, which we found to decrease clickthrough & conversion.\n",
    "\n",
    "# Model evaluation\n",
    "\n",
    "Metrics for evaluating uplift are more complex than typical metrics used in supervised learning, such as the ROC AUC. This is because it is not possible to observe both the control and the treatment outcomes for a given individual at the same time, which makes it dicult to find a loss measure. One way to measure uplift is using a Qini curve (Radcliffe, 2007), which shows the cumulative number of the incremental positive outcomes or uplift as a function of the number of customers treated. A more performant model can distinguish individuals with positive outcomes from individuals with negative outcomes, yielding a larger separation between the curve and the diagonal, which would represent a random targeting strategy."
   ]
  },
  {
   "cell_type": "code",
   "execution_count": 32,
   "metadata": {
    "execution": {
     "iopub.execute_input": "2021-01-11T10:07:45.666082Z",
     "iopub.status.busy": "2021-01-11T10:07:45.644213Z",
     "iopub.status.idle": "2021-01-11T10:07:45.677764Z",
     "shell.execute_reply": "2021-01-11T10:07:45.677110Z"
    },
    "papermill": {
     "duration": 0.095967,
     "end_time": "2021-01-11T10:07:45.677909",
     "exception": false,
     "start_time": "2021-01-11T10:07:45.581942",
     "status": "completed"
    },
    "tags": []
   },
   "outputs": [],
   "source": [
    "def qini_rank(uplift): \n",
    "    # Function to Rank the data by the uplift score\n",
    "    ranked = pd.DataFrame({'ranked uplift':[], 'target_class':[]})\n",
    "    ranked['target_class'] = uplift['target_class']\n",
    "    ranked['uplift_score'] = uplift['uplift_score']\n",
    "    ranked['ranked uplift'] = ranked.uplift_score.rank(pct=True, ascending=False)\n",
    "    # Data Ranking   \n",
    "    ranked = ranked.sort_values(by='ranked uplift').reset_index(drop=True)\n",
    "    return ranked\n",
    "\n",
    "def qini_eval(ranked):\n",
    "    uplift_model, random_model = ranked.copy(), ranked.copy()\n",
    "    # Using Treatment and Control Group to calculate the uplift (Incremental gain)\n",
    "    C, T = sum(ranked['target_class'] <= 1), sum(ranked['target_class'] >= 2)\n",
    "    ranked['cr'] = 0\n",
    "    ranked['tr'] = 0\n",
    "    ranked.loc[ranked.target_class == 1,'cr'] = 1\n",
    "    ranked.loc[ranked.target_class == 3,'tr'] = 1\n",
    "    ranked['cr/c'] = ranked.cr.cumsum() / C\n",
    "    ranked['tr/t'] = ranked.tr.cumsum() / T\n",
    "    # Calculate and put the uplift and random value into dataframe\n",
    "    uplift_model['uplift'] = round(ranked['tr/t'] - ranked['cr/c'],5)\n",
    "    random_model['uplift'] = round(ranked['ranked uplift'] * uplift_model['uplift'].iloc[-1],5)\n",
    "    \n",
    "    uplift_model['Number_of_exposed_customers'] = np.arange(len(uplift_model))+1\n",
    "    uplift_model['visits_gained'] = uplift_model.uplift*len(uplift_model)\n",
    "    \n",
    "    # Add q0\n",
    "    q0 = pd.DataFrame({'ranked uplift':0, 'uplift':0, 'target_class': None}, index =[0])\n",
    "    uplift_model = pd.concat([q0, uplift_model]).reset_index(drop = True)\n",
    "    random_model = pd.concat([q0, random_model]).reset_index(drop = True)  \n",
    "    # Add model name & concat\n",
    "    uplift_model['model'] = 'Uplift model'\n",
    "    random_model['model'] = 'Random model'\n",
    "    merged = pd.concat([uplift_model, random_model]).sort_values(by='ranked uplift').reset_index(drop = True)\n",
    "    return merged, uplift_model\n",
    "\n",
    "def uplift_curve(uplift_model):\n",
    "    plt.figure(figsize = (10,6))\n",
    "    # plot the data\n",
    "    ax = uplift_model['visits_gained'].plot(color=['#2077B4'])\n",
    "    # Plot settings\n",
    "    sns.set_style('whitegrid')\n",
    "    handles, labels = ax.get_legend_handles_labels()\n",
    "    plt.xlabel('Number of customers treated')\n",
    "    plt.ylabel('Incremental visits')\n",
    "    plt.grid(b=True, which='major')\n",
    "    return ax\n",
    "\n",
    "def qini_plot(merged:pd.DataFrame, uplift_model:pd.DataFrame):\n",
    "    gain_x = uplift_model['ranked uplift']\n",
    "    gain_y = uplift_model.uplift\n",
    "    qini = auc(gain_x, gain_y)\n",
    "    # plot the data\n",
    "    plt.figure(figsize = (10,6))\n",
    "    mpl.rcParams['font.size'] = 8\n",
    "    qini = auc(gain_x, gain_y)\n",
    "\n",
    "    ax = plt.plot(gain_x, gain_y, color= '#2077B4',\n",
    "        label='Normalized Uplift Model, Qini Score: {}'.format(round(qini,2)))\n",
    "    \n",
    "    plt.plot([0, gain_x.max()], [0, gain_y.max()],\n",
    "        '--', color='tab:orange',\n",
    "        label='Random Treatment')\n",
    "    plt.legend()\n",
    "    plt.xlabel('Porportion Targeted')\n",
    "    plt.ylabel('Uplift')\n",
    "    plt.grid(b=True, which='major')\n",
    "\n",
    "    return ax\n",
    "\n",
    "def plot_uplift(result:pd.DataFrame):\n",
    "    # Function to plot the uplift curve\n",
    "    ranked = qini_rank(result)\n",
    "    merged, uplift_model = qini_eval(ranked)\n",
    "    ax1 = uplift_curve(uplift_model)\n",
    "    \n",
    "    return ax1\n",
    "\n",
    "def plot_qini(result:pd.DataFrame):\n",
    "    # Function to plot the qini curve\n",
    "    ranked = qini_rank(result)\n",
    "    merged, uplift_model = qini_eval(ranked)\n",
    "    ax2 = qini_plot(merged, uplift_model)\n",
    "    \n",
    "    return ax2 "
   ]
  },
  {
   "cell_type": "code",
   "execution_count": 33,
   "metadata": {
    "execution": {
     "iopub.execute_input": "2021-01-11T10:07:45.801207Z",
     "iopub.status.busy": "2021-01-11T10:07:45.800360Z",
     "iopub.status.idle": "2021-01-11T10:07:52.165097Z",
     "shell.execute_reply": "2021-01-11T10:07:52.165721Z"
    },
    "papermill": {
     "duration": 6.429275,
     "end_time": "2021-01-11T10:07:52.165891",
     "exception": false,
     "start_time": "2021-01-11T10:07:45.736616",
     "status": "completed"
    },
    "tags": []
   },
   "outputs": [
    {
     "data": {
      "text/plain": [
       "<matplotlib.axes._subplots.AxesSubplot at 0x7f01417348d0>"
      ]
     },
     "execution_count": 33,
     "metadata": {},
     "output_type": "execute_result"
    },
    {
     "data": {
      "image/png": "[encoded data removed]",
      "text/plain": [
       "<Figure size 720x432 with 1 Axes>"
      ]
     },
     "metadata": {},
     "output_type": "display_data"
    }
   ],
   "source": [
    "plot_uplift(result)"
   ]
  },
  {
   "cell_type": "markdown",
   "metadata": {
    "papermill": {
     "duration": 0.058633,
     "end_time": "2021-01-11T10:07:52.285229",
     "exception": false,
     "start_time": "2021-01-11T10:07:52.226596",
     "status": "completed"
    },
    "tags": []
   },
   "source": [
    "If we offer the treatment to every customer (2,500,000), we’ll increase the number of visitors by 30,000. However we can achieve a gain of 26,000 customers, about 86% of the maximum possible, by only offering treatment to the top 20% of customers. \n",
    "One advantage of the uplift curve, however, is that similar to the ROC curve, we can calculate an area under the curve, with the interpretation that larger area indicates a better performing model: we would like to be able to gain as many customers as possible, by targeting a few as possible. \n",
    "\n",
    "Before calculating an AUC, it is better to normalize the data. As shown, the gain curve has units of customers on both the x- and y-axes which can be good for visualizing things in real-world quantities however it makes comparing different models very difficult. We can fix this by scaling the curve so that the axes are between 0 and 1. "
   ]
  },
  {
   "cell_type": "code",
   "execution_count": 34,
   "metadata": {
    "execution": {
     "iopub.execute_input": "2021-01-11T10:07:52.410897Z",
     "iopub.status.busy": "2021-01-11T10:07:52.410074Z",
     "iopub.status.idle": "2021-01-11T10:08:00.864160Z",
     "shell.execute_reply": "2021-01-11T10:08:00.863445Z"
    },
    "papermill": {
     "duration": 8.519935,
     "end_time": "2021-01-11T10:08:00.864294",
     "exception": false,
     "start_time": "2021-01-11T10:07:52.344359",
     "status": "completed"
    },
    "tags": []
   },
   "outputs": [
    {
     "data": {
      "text/plain": [
       "[<matplotlib.lines.Line2D at 0x7f01416167d0>]"
      ]
     },
     "execution_count": 34,
     "metadata": {},
     "output_type": "execute_result"
    },
    {
     "data": {
      "image/png": "[encoded data removed]",
      "text/plain": [
       "<Figure size 720x432 with 1 Axes>"
      ]
     },
     "metadata": {},
     "output_type": "display_data"
    }
   ],
   "source": [
    "plot_qini(result)"
   ]
  },
  {
   "cell_type": "markdown",
   "metadata": {
    "papermill": {
     "duration": 0.061942,
     "end_time": "2021-01-11T10:08:00.987385",
     "exception": false,
     "start_time": "2021-01-11T10:08:00.925443",
     "status": "completed"
    },
    "tags": []
   },
   "source": [
    "While the model appears to be able to distinguish positive from negative outcomes as shown by its steep initial slope, the Qini-score is only 0.01, suggesting the total incremental positive outcomes from the treatment is low and that actually there is little difference between this treatment and a random targeting strategy.\n",
    "\n",
    "It is worth considering what impact a user being properly exposed has on their incremental outcomes. This will be explored by calling the pre-defined functions from above while changing the treatment classes to 'exposure'."
   ]
  },
  {
   "cell_type": "code",
   "execution_count": 35,
   "metadata": {
    "execution": {
     "iopub.execute_input": "2021-01-11T10:08:01.121714Z",
     "iopub.status.busy": "2021-01-11T10:08:01.120569Z",
     "iopub.status.idle": "2021-01-11T10:08:01.380998Z",
     "shell.execute_reply": "2021-01-11T10:08:01.380266Z"
    },
    "papermill": {
     "duration": 0.331427,
     "end_time": "2021-01-11T10:08:01.381123",
     "exception": false,
     "start_time": "2021-01-11T10:08:01.049696",
     "status": "completed"
    },
    "tags": []
   },
   "outputs": [
    {
     "name": "stdout",
     "output_type": "stream",
     "text": [
      "Class 0: 13551380\n",
      "Class 1: 428212\n",
      "Proportion: 32 : 1\n"
     ]
    },
    {
     "data": {
      "image/png": "[encoded data removed]",
      "text/plain": [
       "<Figure size 720x432 with 1 Axes>"
      ]
     },
     "metadata": {},
     "output_type": "display_data"
    }
   ],
   "source": [
    "plt.figure(figsize = (10,6))\n",
    "target_count = df['exposure'].value_counts()\n",
    "print('Class 0:', target_count[0])\n",
    "print('Class 1:', target_count[1])\n",
    "print('Proportion:', int(round(target_count[0] / target_count[1])), ': 1')\n",
    "target_count.plot(kind='bar', title='Exposure Distribution', color=['#2077B4', '#FF7F0E'], fontsize = 15)\n",
    "plt.xticks(rotation=0) \n",
    "plt.show()"
   ]
  },
  {
   "cell_type": "markdown",
   "metadata": {
    "papermill": {
     "duration": 0.062831,
     "end_time": "2021-01-11T10:08:01.507680",
     "exception": false,
     "start_time": "2021-01-11T10:08:01.444849",
     "status": "completed"
    },
    "tags": []
   },
   "source": [
    "Much like in the previous example, the treatment class is highly imbalanced, with roughly 1 in every 32 users being exposed to the treatment. "
   ]
  },
  {
   "cell_type": "code",
   "execution_count": 36,
   "metadata": {
    "execution": {
     "iopub.execute_input": "2021-01-11T10:08:01.643106Z",
     "iopub.status.busy": "2021-01-11T10:08:01.642259Z",
     "iopub.status.idle": "2021-01-11T10:08:18.661875Z",
     "shell.execute_reply": "2021-01-11T10:08:18.662528Z"
    },
    "papermill": {
     "duration": 17.091789,
     "end_time": "2021-01-11T10:08:18.662735",
     "exception": false,
     "start_time": "2021-01-11T10:08:01.570946",
     "status": "completed"
    },
    "tags": []
   },
   "outputs": [],
   "source": [
    "train, test  = train_test_split(df, test_size=0.2, random_state=42, stratify=df['exposure'])"
   ]
  },
  {
   "cell_type": "code",
   "execution_count": 37,
   "metadata": {
    "execution": {
     "iopub.execute_input": "2021-01-11T10:08:18.795570Z",
     "iopub.status.busy": "2021-01-11T10:08:18.794830Z",
     "iopub.status.idle": "2021-01-11T10:08:20.697210Z",
     "shell.execute_reply": "2021-01-11T10:08:20.697843Z"
    },
    "papermill": {
     "duration": 1.970801,
     "end_time": "2021-01-11T10:08:20.698054",
     "exception": false,
     "start_time": "2021-01-11T10:08:18.727253",
     "status": "completed"
    },
    "tags": []
   },
   "outputs": [],
   "source": [
    "train = random_under(train, 'exposure')"
   ]
  },
  {
   "cell_type": "code",
   "execution_count": 38,
   "metadata": {
    "execution": {
     "iopub.execute_input": "2021-01-11T10:08:20.832309Z",
     "iopub.status.busy": "2021-01-11T10:08:20.831582Z",
     "iopub.status.idle": "2021-01-11T10:08:21.217310Z",
     "shell.execute_reply": "2021-01-11T10:08:21.216580Z"
    },
    "papermill": {
     "duration": 0.454888,
     "end_time": "2021-01-11T10:08:21.217463",
     "exception": false,
     "start_time": "2021-01-11T10:08:20.762575",
     "status": "completed"
    },
    "tags": []
   },
   "outputs": [
    {
     "name": "stdout",
     "output_type": "stream",
     "text": [
      "Class 0: 342570\n",
      "Class 1: 342570\n",
      "Proportion: 1 : 1\n"
     ]
    },
    {
     "data": {
      "text/plain": [
       "(array([0, 1]), <a list of 2 Text major ticklabel objects>)"
      ]
     },
     "execution_count": 38,
     "metadata": {},
     "output_type": "execute_result"
    },
    {
     "data": {
      "image/png": "[encoded data removed]",
      "text/plain": [
       "<Figure size 720x432 with 1 Axes>"
      ]
     },
     "metadata": {},
     "output_type": "display_data"
    }
   ],
   "source": [
    "plt.figure(figsize = (10,6))\n",
    "new_target_count = train['exposure'].value_counts()\n",
    "print('Class 0:', new_target_count[0])\n",
    "print('Class 1:', new_target_count[1])\n",
    "print('Proportion:', int(round(new_target_count[0] / new_target_count[1])), ': 1')\n",
    "new_target_count.plot(kind='bar', title='Exposure Class Distribution', color=['#2077B4', '#FF7F0E'], fontsize = 15)\n",
    "plt.xticks(rotation=0) "
   ]
  },
  {
   "cell_type": "code",
   "execution_count": 39,
   "metadata": {
    "execution": {
     "iopub.execute_input": "2021-01-11T10:08:21.375973Z",
     "iopub.status.busy": "2021-01-11T10:08:21.375125Z",
     "iopub.status.idle": "2021-01-11T10:08:21.740247Z",
     "shell.execute_reply": "2021-01-11T10:08:21.739514Z"
    },
    "papermill": {
     "duration": 0.45645,
     "end_time": "2021-01-11T10:08:21.740378",
     "exception": false,
     "start_time": "2021-01-11T10:08:21.283928",
     "status": "completed"
    },
    "tags": []
   },
   "outputs": [],
   "source": [
    "train = target_class(train.drop(columns = ['conversion', 'treatment']), 'exposure', 'visit')\n",
    "test = target_class(test.drop(columns = ['conversion', 'treatment']), 'exposure', 'visit')"
   ]
  },
  {
   "cell_type": "code",
   "execution_count": 40,
   "metadata": {
    "execution": {
     "iopub.execute_input": "2021-01-11T10:08:22.052396Z",
     "iopub.status.busy": "2021-01-11T10:08:22.044949Z",
     "iopub.status.idle": "2021-01-11T10:08:22.056873Z",
     "shell.execute_reply": "2021-01-11T10:08:22.056038Z"
    },
    "papermill": {
     "duration": 0.251062,
     "end_time": "2021-01-11T10:08:22.057028",
     "exception": false,
     "start_time": "2021-01-11T10:08:21.805966",
     "status": "completed"
    },
    "tags": []
   },
   "outputs": [],
   "source": [
    "X_train = train.drop(['visit','target_class'],axis=1)\n",
    "y_train = train['target_class']\n",
    "X_test = test.drop(['visit','target_class'],axis=1)\n",
    "y_test = test['target_class']"
   ]
  },
  {
   "cell_type": "code",
   "execution_count": 41,
   "metadata": {
    "execution": {
     "iopub.execute_input": "2021-01-11T10:08:22.299271Z",
     "iopub.status.busy": "2021-01-11T10:08:22.296825Z",
     "iopub.status.idle": "2021-01-11T10:11:45.273997Z",
     "shell.execute_reply": "2021-01-11T10:11:45.273266Z"
    },
    "papermill": {
     "duration": 203.150626,
     "end_time": "2021-01-11T10:11:45.274184",
     "exception": false,
     "start_time": "2021-01-11T10:08:22.123558",
     "status": "completed"
    },
    "tags": []
   },
   "outputs": [],
   "source": [
    "result = uplift_model(X_train, X_test, y_train, y_test, 'exposure')"
   ]
  },
  {
   "cell_type": "code",
   "execution_count": 42,
   "metadata": {
    "execution": {
     "iopub.execute_input": "2021-01-11T10:11:45.438843Z",
     "iopub.status.busy": "2021-01-11T10:11:45.436070Z",
     "iopub.status.idle": "2021-01-11T10:11:45.979366Z",
     "shell.execute_reply": "2021-01-11T10:11:45.978579Z"
    },
    "papermill": {
     "duration": 0.623349,
     "end_time": "2021-01-11T10:11:45.979528",
     "exception": false,
     "start_time": "2021-01-11T10:11:45.356179",
     "status": "completed"
    },
    "tags": []
   },
   "outputs": [
    {
     "data": {
      "text/plain": [
       "Text(0, 0.5, 'Number of observations in validation set')"
      ]
     },
     "execution_count": 42,
     "metadata": {},
     "output_type": "execute_result"
    },
    {
     "data": {
      "image/png": "[encoded data removed]",
      "text/plain": [
       "<Figure size 720x432 with 1 Axes>"
      ]
     },
     "metadata": {},
     "output_type": "display_data"
    }
   ],
   "source": [
    "plt.figure(figsize = (10,6))\n",
    "plt.hist(result.uplift_score, bins=100, color=['#2077B4'])\n",
    "plt.xlabel('Uplift score')\n",
    "plt.ylabel('Number of observations in validation set')"
   ]
  },
  {
   "cell_type": "markdown",
   "metadata": {
    "papermill": {
     "duration": 0.066787,
     "end_time": "2021-01-11T10:11:46.114324",
     "exception": false,
     "start_time": "2021-01-11T10:11:46.047537",
     "status": "completed"
    },
    "tags": []
   },
   "source": [
    "The distribution of uplift is almost entirely positive, meaning the treatment almost always encourages individuals to visit when they are properly exposed, and almost never discouraging them."
   ]
  },
  {
   "cell_type": "code",
   "execution_count": 43,
   "metadata": {
    "execution": {
     "iopub.execute_input": "2021-01-11T10:11:46.256493Z",
     "iopub.status.busy": "2021-01-11T10:11:46.255776Z",
     "iopub.status.idle": "2021-01-11T10:11:53.288047Z",
     "shell.execute_reply": "2021-01-11T10:11:53.287273Z"
    },
    "papermill": {
     "duration": 7.106454,
     "end_time": "2021-01-11T10:11:53.288185",
     "exception": false,
     "start_time": "2021-01-11T10:11:46.181731",
     "status": "completed"
    },
    "tags": []
   },
   "outputs": [
    {
     "data": {
      "text/plain": [
       "<matplotlib.axes._subplots.AxesSubplot at 0x7f0167effe90>"
      ]
     },
     "execution_count": 43,
     "metadata": {},
     "output_type": "execute_result"
    },
    {
     "data": {
      "image/png": "[encoded data removed]",
      "text/plain": [
       "<Figure size 720x432 with 1 Axes>"
      ]
     },
     "metadata": {},
     "output_type": "display_data"
    }
   ],
   "source": [
    "plot_uplift(result)"
   ]
  },
  {
   "cell_type": "markdown",
   "metadata": {
    "papermill": {
     "duration": 0.073858,
     "end_time": "2021-01-11T10:11:53.431198",
     "exception": false,
     "start_time": "2021-01-11T10:11:53.357340",
     "status": "completed"
    },
    "tags": []
   },
   "source": [
    "As can be seen, when users are properly exposed to the treatment, the incremental positive outcomes or uplift is much higher. If we offer the treatment to every customer, we’ll increase the number of visitors by 1,060,000. However we can achieve a gain of 620,000 customers, about 58% of the maximum possible, by only offering treatment to the top 20% of customers. Given the different magnitude of customers, in order to compare this model to our previous one, we must once again normalize our results. "
   ]
  },
  {
   "cell_type": "code",
   "execution_count": 44,
   "metadata": {
    "execution": {
     "iopub.execute_input": "2021-01-11T10:11:53.583448Z",
     "iopub.status.busy": "2021-01-11T10:11:53.581725Z",
     "iopub.status.idle": "2021-01-11T10:12:02.930917Z",
     "shell.execute_reply": "2021-01-11T10:12:02.930088Z"
    },
    "papermill": {
     "duration": 9.426234,
     "end_time": "2021-01-11T10:12:02.931080",
     "exception": false,
     "start_time": "2021-01-11T10:11:53.504846",
     "status": "completed"
    },
    "tags": []
   },
   "outputs": [
    {
     "data": {
      "text/plain": [
       "[<matplotlib.lines.Line2D at 0x7f015e913610>]"
      ]
     },
     "execution_count": 44,
     "metadata": {},
     "output_type": "execute_result"
    },
    {
     "data": {
      "image/png": "[encoded data removed]",
      "text/plain": [
       "<Figure size 720x432 with 1 Axes>"
      ]
     },
     "metadata": {},
     "output_type": "display_data"
    }
   ],
   "source": [
    "plot_qini(result)"
   ]
  },
  {
   "cell_type": "markdown",
   "metadata": {
    "papermill": {
     "duration": 0.070677,
     "end_time": "2021-01-11T10:12:03.073780",
     "exception": false,
     "start_time": "2021-01-11T10:12:03.003103",
     "status": "completed"
    },
    "tags": []
   },
   "source": [
    "As can be seen, the Qini-score is roughly x29 better than the previous model suggesting the cumulative number of the incremental positive outcomes is much larger providing users are effectively exposed. \n",
    "\n",
    "# Conclusion\n",
    "\n",
    "The goal of uplift modeling is to create predictive models of the individual treatment effect. Such models allow data scientists to segment populations into groups that are more likely to respond to treatment, and those that are less so. In this example, the effect of properly exposing users to the treatment  is shown to significantly increase the incremental outcomes compared to the normal treatment group. As can be seen the evaluation of uplift models is not as straightforward as that of supervised classification or regression models because it requires separate consideration, and comparison, of treatment and control groups. However, open source Python packages ([CausalML](http://https://causalml.readthedocs.io/en/latest/), [Pylift](http://https://pylift.readthedocs.io/), [Scikit-Uplift](http://https://scikit-uplift.readthedocs.io/en/latest/)), have been created to facilitate uplift model development and evaluation. \n",
    "\n",
    "\n",
    "<b> Some resources that helped me and I recommend taking a look at if you're interested in finding out more: </b>\n",
    "\n",
    "Gubela, Robin & Bequé, Artem & Gebert, Fabian & Lessmann, Stefan. (2019). Conversion Uplift in E-Commerce: A Systematic Benchmark of Modeling Strategies. International Journal of Information Technology & Decision Making. 18. 10.1142/S0219622019500172.  \n",
    "\n",
    "Gutierrez, P., & Gérardy, J. Y. (2017, July). Causal Inference and Uplift Modelling: A Review of the Literature. In International Conference on Predictive Applications and APIs (pp. 1-13). \n",
    "\n",
    "Cheng, L., Leung, A. C. S., & Ozawa, S. (Eds.). (2018). Neural Information Processing. Lecture Notes in Computer Science. doi:10.1007/978-3-030-04221-9  \n",
    "\n",
    "https://www.steveklosterman.com/uplift-modeling/\n",
    "\n",
    "This notebook adapts some of the functions provided in this notebook:\n",
    "https://www.kaggle.com/arashnic/uplift-modeling\n",
    "\n",
    "\n",
    "\n"
   ]
  }
 ],
 "metadata": {
  "kernelspec": {
   "display_name": "Python 3",
   "language": "python",
   "name": "python3"
  },
  "language_info": {
   "codemirror_mode": {
    "name": "ipython",
    "version": 3
   },
   "file_extension": ".py",
   "mimetype": "text/x-python",
   "name": "python",
   "nbconvert_exporter": "python",
   "pygments_lexer": "ipython3",
   "version": "3.7.6"
  },
  "papermill": {
   "duration": 1499.312964,
   "end_time": "2021-01-11T10:12:03.255186",
   "environment_variables": {},
   "exception": null,
   "input_path": "__notebook__.ipynb",
   "output_path": "__notebook__.ipynb",
   "parameters": {},
   "start_time": "2021-01-11T09:47:03.942222",
   "version": "2.1.0"
  }
 },
 "nbformat": 4,
 "nbformat_minor": 4
}
